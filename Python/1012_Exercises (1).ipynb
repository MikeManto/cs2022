{
  "nbformat": 4,
  "nbformat_minor": 0,
  "metadata": {
    "colab": {
      "provenance": [],
      "collapsed_sections": []
    },
    "kernelspec": {
      "name": "python3",
      "display_name": "Python 3"
    },
    "language_info": {
      "name": "python"
    }
  },
  "cells": [
    {
      "cell_type": "markdown",
      "source": [
        "### **1012 4110E222**\n",
        "Python Lists"
      ],
      "metadata": {
        "id": "87hkE_DCLIlM"
      }
    },
    {
      "cell_type": "code",
      "source": [
        "print(\"4110E222 - 麥聖嬰\")\n",
        "thislist = [\"pineapple\", \"strawberry\", \"watermelon\"]\n",
        "print(thislist)"
      ],
      "metadata": {
        "colab": {
          "base_uri": "https://localhost:8080/"
        },
        "id": "q2EPXoPhLOLl",
        "outputId": "d811d260-525a-4914-8117-8fc9acb18e15"
      },
      "execution_count": 1,
      "outputs": [
        {
          "output_type": "stream",
          "name": "stdout",
          "text": [
            "4110E222 - 麥聖嬰\n",
            "['pineapple', 'strawberry', 'watermelon']\n"
          ]
        }
      ]
    },
    {
      "cell_type": "markdown",
      "source": [
        "\n",
        "Allow Duplicates"
      ],
      "metadata": {
        "id": "6_5AIS2cLfs6"
      }
    },
    {
      "cell_type": "code",
      "source": [
        "print(\"4110E222 - 麥聖嬰\")\n",
        "thislist = [\"pineapple\", \"strawberry\", \"watermelon\", \"strawberry\", \"strawberry\"]\n",
        "print(thislist)"
      ],
      "metadata": {
        "colab": {
          "base_uri": "https://localhost:8080/"
        },
        "id": "PK9hzI9wLlEt",
        "outputId": "6c0afab8-0b9c-431f-a4ef-8352231bffd1"
      },
      "execution_count": 2,
      "outputs": [
        {
          "output_type": "stream",
          "name": "stdout",
          "text": [
            "4110E222 - 麥聖嬰\n",
            "['pineapple', 'strawberry', 'watermelon', 'strawberry', 'strawberry']\n"
          ]
        }
      ]
    },
    {
      "cell_type": "markdown",
      "source": [
        "List Length"
      ],
      "metadata": {
        "id": "pjaCPvV8LyJG"
      }
    },
    {
      "cell_type": "code",
      "source": [
        "print(\"4110E222 - 麥聖嬰\")\n",
        "thislist = [\"pineapple\", \"strawberry\", \"watermelon\"]\n",
        "print(len(thislist))"
      ],
      "metadata": {
        "colab": {
          "base_uri": "https://localhost:8080/"
        },
        "id": "CoWtIhBML0v6",
        "outputId": "7763dd74-4e3b-457c-9610-92b9053c1b04"
      },
      "execution_count": 3,
      "outputs": [
        {
          "output_type": "stream",
          "name": "stdout",
          "text": [
            "4110E222 - 麥聖嬰\n",
            "3\n"
          ]
        }
      ]
    },
    {
      "cell_type": "markdown",
      "source": [
        "List Items - Data Types"
      ],
      "metadata": {
        "id": "CKThxYydL61S"
      }
    },
    {
      "cell_type": "code",
      "source": [
        "print(\"4110E222 - 麥聖嬰\")\n",
        "string_list = [\"pineapple\", \"strawberry\", \"watermelon\"]\n",
        "int_list = [1, 5, 7, 9, 3]\n",
        "bolean_list = [True, False, False]\n",
        "\n",
        "print(string_list)\n",
        "print(int_list)\n",
        "print(bolean_list)"
      ],
      "metadata": {
        "colab": {
          "base_uri": "https://localhost:8080/"
        },
        "id": "ybiEZdQAL9_q",
        "outputId": "e80ef8ee-97d3-44df-fc2e-3577203dc04f"
      },
      "execution_count": 5,
      "outputs": [
        {
          "output_type": "stream",
          "name": "stdout",
          "text": [
            "4110E222 - 麥聖嬰\n",
            "['pineapple', 'strawberry', 'watermelon']\n",
            "[1, 5, 7, 9, 3]\n",
            "[True, False, False]\n"
          ]
        }
      ]
    },
    {
      "cell_type": "markdown",
      "source": [
        "A list can contain different data types:"
      ],
      "metadata": {
        "id": "2m_NXN5vMKEN"
      }
    },
    {
      "cell_type": "code",
      "source": [
        "print(\"4110E222 - 麥聖嬰\")\n",
        "list = [100, \"HELLO\", 99, True, False]\n",
        "\n",
        "print(list)"
      ],
      "metadata": {
        "colab": {
          "base_uri": "https://localhost:8080/"
        },
        "id": "psDorAkoMMwu",
        "outputId": "122f06c7-1d5d-4759-8bcd-045323b188c9"
      },
      "execution_count": 6,
      "outputs": [
        {
          "output_type": "stream",
          "name": "stdout",
          "text": [
            "4110E222 - 麥聖嬰\n",
            "[100, 'HELLO', 99, True, False]\n"
          ]
        }
      ]
    },
    {
      "cell_type": "markdown",
      "source": [
        "type()"
      ],
      "metadata": {
        "id": "PCjcuraTMVnL"
      }
    },
    {
      "cell_type": "code",
      "source": [
        "print(\"4110E222 - 麥聖嬰\")\n",
        "mylist = [\"pineapple\", \"strawberry\", \"watermelon\"]\n",
        "print(type(mylist))"
      ],
      "metadata": {
        "colab": {
          "base_uri": "https://localhost:8080/"
        },
        "id": "XBxtKMPNMWrj",
        "outputId": "8bb73407-ed03-4a5f-c511-f63fef53dbf6"
      },
      "execution_count": 7,
      "outputs": [
        {
          "output_type": "stream",
          "name": "stdout",
          "text": [
            "4110E222 - 麥聖嬰\n",
            "<class 'list'>\n"
          ]
        }
      ]
    },
    {
      "cell_type": "markdown",
      "source": [
        "Access List Items\n",
        "\n",
        "List items are indexed and you can access them by referring to the index number:"
      ],
      "metadata": {
        "id": "5YFvBU-mMd0A"
      }
    },
    {
      "cell_type": "code",
      "source": [
        "print(\"4110E222 - 麥聖嬰\")\n",
        "thislist = [\"pineapple\", \"strawberry\", \"watermelon\"]\n",
        "print(thislist[2])"
      ],
      "metadata": {
        "colab": {
          "base_uri": "https://localhost:8080/"
        },
        "id": "qFYiD7IpMh96",
        "outputId": "b69c1548-ad5d-439b-d636-87653a34099e"
      },
      "execution_count": 8,
      "outputs": [
        {
          "output_type": "stream",
          "name": "stdout",
          "text": [
            "4110E222 - 麥聖嬰\n",
            "watermelon\n"
          ]
        }
      ]
    },
    {
      "cell_type": "markdown",
      "source": [
        "Negative Indexing"
      ],
      "metadata": {
        "id": "q8ZVIQiDMkxw"
      }
    },
    {
      "cell_type": "code",
      "source": [
        "print(\"4110E222 - 麥聖嬰\")\n",
        "thislist = [\"pineapple\", \"strawberry\", \"watermelon\"]\n",
        "print(thislist[-2])"
      ],
      "metadata": {
        "colab": {
          "base_uri": "https://localhost:8080/"
        },
        "id": "UyxUOGCqMm23",
        "outputId": "182f944b-5e52-49c8-c12a-033de2a77066"
      },
      "execution_count": 9,
      "outputs": [
        {
          "output_type": "stream",
          "name": "stdout",
          "text": [
            "4110E222 - 麥聖嬰\n",
            "strawberry\n"
          ]
        }
      ]
    },
    {
      "cell_type": "markdown",
      "source": [
        "Range of Indexes"
      ],
      "metadata": {
        "id": "XBccQYffMo4Q"
      }
    },
    {
      "cell_type": "code",
      "source": [
        "print(\"4110E222 - 麥聖嬰\")\n",
        "thislist = [\"pineapple\", \"strawberry\", \"watermelon\", \"wine\", \"xerox\", \"zebra\"]\n",
        "print(thislist[1:4])"
      ],
      "metadata": {
        "colab": {
          "base_uri": "https://localhost:8080/"
        },
        "id": "VKYBMD2zMqok",
        "outputId": "05873a02-5a64-4c80-ece6-c3e45990fbba"
      },
      "execution_count": 10,
      "outputs": [
        {
          "output_type": "stream",
          "name": "stdout",
          "text": [
            "4110E222 - 麥聖嬰\n",
            "['strawberry', 'watermelon', 'wine']\n"
          ]
        }
      ]
    },
    {
      "cell_type": "markdown",
      "source": [
        "By leaving out the start value, the range will start at the first item:"
      ],
      "metadata": {
        "id": "xcs79DbDMs1i"
      }
    },
    {
      "cell_type": "code",
      "source": [
        "print(\"4110E222 - 麥聖嬰\")\n",
        "thislist = [\"pineapple\", \"strawberry\", \"watermelon\", \"wine\", \"xerox\", \"zebra\"]\n",
        "print(thislist[:5])"
      ],
      "metadata": {
        "colab": {
          "base_uri": "https://localhost:8080/"
        },
        "id": "nWkmbesdMu-x",
        "outputId": "2ba6f9cd-5bde-4053-94b5-8385dc37b90e"
      },
      "execution_count": 11,
      "outputs": [
        {
          "output_type": "stream",
          "name": "stdout",
          "text": [
            "4110E222 - 麥聖嬰\n",
            "['pineapple', 'strawberry', 'watermelon', 'wine', 'xerox']\n"
          ]
        }
      ]
    },
    {
      "cell_type": "markdown",
      "source": [
        "By leaving out the end value, the range will go on to the end of the list:"
      ],
      "metadata": {
        "id": "zvIFW44NMwzi"
      }
    },
    {
      "cell_type": "code",
      "source": [
        "print(\"4110E222 - 麥聖嬰\")\n",
        "thislist = [\"pineapple\", \"strawberry\", \"watermelon\", \"wine\", \"xerox\", \"zebra\"]\n",
        "print(thislist[1:])"
      ],
      "metadata": {
        "colab": {
          "base_uri": "https://localhost:8080/"
        },
        "id": "8OlTZbcbMytH",
        "outputId": "29117bc2-4267-41d1-905d-614a059f0448"
      },
      "execution_count": 12,
      "outputs": [
        {
          "output_type": "stream",
          "name": "stdout",
          "text": [
            "4110E222 - 麥聖嬰\n",
            "['strawberry', 'watermelon', 'wine', 'xerox', 'zebra']\n"
          ]
        }
      ]
    },
    {
      "cell_type": "markdown",
      "source": [
        "Range of Negative Indexes"
      ],
      "metadata": {
        "id": "-qzFvXKvM0uX"
      }
    },
    {
      "cell_type": "code",
      "source": [
        "print(\"4110E222 - 麥聖嬰\")\n",
        "thislist = [\"pineapple\", \"strawberry\", \"watermelon\", \"wine\", \"xerox\", \"zebra\"]\n",
        "print(thislist[-6:-2])"
      ],
      "metadata": {
        "colab": {
          "base_uri": "https://localhost:8080/"
        },
        "id": "-6A9I48zM2gd",
        "outputId": "e6fa4076-86e6-4d98-cf82-f7208067bbfb"
      },
      "execution_count": 13,
      "outputs": [
        {
          "output_type": "stream",
          "name": "stdout",
          "text": [
            "4110E222 - 麥聖嬰\n",
            "['pineapple', 'strawberry', 'watermelon', 'wine']\n"
          ]
        }
      ]
    },
    {
      "cell_type": "markdown",
      "source": [
        "Check if Item Exists"
      ],
      "metadata": {
        "id": "nSaT-yy9M4rv"
      }
    },
    {
      "cell_type": "code",
      "source": [
        "print(\"4110E222 - 麥聖嬰\")\n",
        "thislist = [\"pineapple\", \"strawberry\", \"watermelon\"]\n",
        "if \"strawberry\" in thislist:\n",
        "  print(\"Yes, 'strawberry' is in the list\")"
      ],
      "metadata": {
        "colab": {
          "base_uri": "https://localhost:8080/"
        },
        "id": "KYAUeywOM63X",
        "outputId": "82ab7434-93f3-4807-828c-36837c8fb18f"
      },
      "execution_count": 14,
      "outputs": [
        {
          "output_type": "stream",
          "name": "stdout",
          "text": [
            "4110E222 - 麥聖嬰\n",
            "Yes, 'strawberry' is in the list\n"
          ]
        }
      ]
    },
    {
      "cell_type": "markdown",
      "source": [
        "Change List Items\n",
        "\n",
        "To change the value of a specific item, refer to the index number:"
      ],
      "metadata": {
        "id": "rnsF8N3bM8_j"
      }
    },
    {
      "cell_type": "code",
      "source": [
        "print(\"4110E222 - 麥聖嬰\")\n",
        "thislist = [\"pineapple\", \"strawberry\", \"watermelon\"]\n",
        "thislist[0] = \"grapes\"\n",
        "print(thislist)"
      ],
      "metadata": {
        "colab": {
          "base_uri": "https://localhost:8080/"
        },
        "id": "QHHbrUDrM-7n",
        "outputId": "c74161ff-dafa-455e-d761-ee17237f5b8c"
      },
      "execution_count": 15,
      "outputs": [
        {
          "output_type": "stream",
          "name": "stdout",
          "text": [
            "4110E222 - 麥聖嬰\n",
            "['grapes', 'strawberry', 'watermelon']\n"
          ]
        }
      ]
    },
    {
      "cell_type": "markdown",
      "source": [
        "Change a Range of Item Values"
      ],
      "metadata": {
        "id": "DNA6WT8iNAzR"
      }
    },
    {
      "cell_type": "code",
      "source": [
        "print(\"4110E222 - 麥聖嬰\")\n",
        "thislist = [\"pineapple\", \"strawberry\", \"watermelon\", \"wine\", \"xerox\", \"zebra\"]\n",
        "thislist[0:2] = [\"ants\", \"balloon\"]\n",
        "print(thislist)"
      ],
      "metadata": {
        "colab": {
          "base_uri": "https://localhost:8080/"
        },
        "id": "RrmVBgTTNCjU",
        "outputId": "2a6ee46d-03d2-4546-a5ba-7c4719e65b0e"
      },
      "execution_count": 16,
      "outputs": [
        {
          "output_type": "stream",
          "name": "stdout",
          "text": [
            "4110E222 - 麥聖嬰\n",
            "['ants', 'balloon', 'watermelon', 'wine', 'xerox', 'zebra']\n"
          ]
        }
      ]
    },
    {
      "cell_type": "markdown",
      "source": [
        "If you insert more items than you replace, the new items will be inserted where you specified, and the remaining items will move accordingly:"
      ],
      "metadata": {
        "id": "fb4N3lXPNEZR"
      }
    },
    {
      "cell_type": "code",
      "source": [
        "print(\"4110E222 - 麥聖嬰\")\n",
        "thislist = [\"pineapple\", \"strawberry\", \"watermelon\"]\n",
        "thislist[0:1] = [\"ants\", \"balloon\"]\n",
        "print(thislist)"
      ],
      "metadata": {
        "colab": {
          "base_uri": "https://localhost:8080/"
        },
        "id": "5MzHt_reNGdi",
        "outputId": "907b0284-e495-4a4a-9ead-c2cff806d24f"
      },
      "execution_count": 17,
      "outputs": [
        {
          "output_type": "stream",
          "name": "stdout",
          "text": [
            "4110E222 - 麥聖嬰\n",
            "['ants', 'balloon', 'strawberry', 'watermelon']\n"
          ]
        }
      ]
    },
    {
      "cell_type": "markdown",
      "source": [
        "If you insert less items than you replace, the new items will be inserted where you specified, and the remaining items will move accordingly:"
      ],
      "metadata": {
        "id": "ihJ_aftTNIX7"
      }
    },
    {
      "cell_type": "code",
      "source": [
        "print(\"4110E222 - 麥聖嬰\")\n",
        "thislist = [\"pineapple\", \"strawberry\", \"watermelon\"]\n",
        "thislist[0:3] = [\"fruits\"]\n",
        "print(thislist)"
      ],
      "metadata": {
        "colab": {
          "base_uri": "https://localhost:8080/"
        },
        "id": "NBqdqZ4QNMNo",
        "outputId": "cdf0162e-053b-492b-8de3-67dcbdb99a31"
      },
      "execution_count": 18,
      "outputs": [
        {
          "output_type": "stream",
          "name": "stdout",
          "text": [
            "4110E222 - 麥聖嬰\n",
            "['fruits']\n"
          ]
        }
      ]
    },
    {
      "cell_type": "markdown",
      "source": [
        "Insert Items"
      ],
      "metadata": {
        "id": "oA7OAdNhNOMG"
      }
    },
    {
      "cell_type": "code",
      "source": [
        "print(\"4110E222 - 麥聖嬰\")\n",
        "thislist = [\"pineapple\", \"strawberry\", \"watermelon\"]\n",
        "thislist.insert(0, \"fruits\")\n",
        "print(thislist)"
      ],
      "metadata": {
        "colab": {
          "base_uri": "https://localhost:8080/"
        },
        "id": "Rjqsz4jGNQX5",
        "outputId": "9139df1f-214a-4ccf-8762-08f00403552f"
      },
      "execution_count": 19,
      "outputs": [
        {
          "output_type": "stream",
          "name": "stdout",
          "text": [
            "4110E222 - 麥聖嬰\n",
            "['fruits', 'pineapple', 'strawberry', 'watermelon']\n"
          ]
        }
      ]
    },
    {
      "cell_type": "markdown",
      "source": [
        "Add List Items"
      ],
      "metadata": {
        "id": "vJZ9CVkpNSpP"
      }
    },
    {
      "cell_type": "code",
      "source": [
        "print(\"4110E222 - 麥聖嬰\")\n",
        "thislist = [\"pineapple\", \"strawberry\", \"watermelon\"]\n",
        "thislist.append(\"zipper\")\n",
        "print(thislist)"
      ],
      "metadata": {
        "colab": {
          "base_uri": "https://localhost:8080/"
        },
        "id": "uOM80s8ZNUn3",
        "outputId": "9c1a0140-026a-4ced-f392-f1265e8162eb"
      },
      "execution_count": 20,
      "outputs": [
        {
          "output_type": "stream",
          "name": "stdout",
          "text": [
            "4110E222 - 麥聖嬰\n",
            "['pineapple', 'strawberry', 'watermelon', 'zipper']\n"
          ]
        }
      ]
    },
    {
      "cell_type": "markdown",
      "source": [
        "Extend List"
      ],
      "metadata": {
        "id": "9cLduoDnNWWG"
      }
    },
    {
      "cell_type": "code",
      "source": [
        "print(\"4110E222 - 麥聖嬰\")\n",
        "thislist = [\"pineapple\", \"strawberry\", \"watermelon\"]\n",
        "animallist = [\"chicken\", \"zebra\"]\n",
        "thislist.extend(animallist)\n",
        "print(thislist)\n",
        "# The elements will be added to the end of the list."
      ],
      "metadata": {
        "colab": {
          "base_uri": "https://localhost:8080/"
        },
        "id": "sDwrl_vpNYGO",
        "outputId": "d8dfeb97-fb3f-462a-dc53-0302dcb15648"
      },
      "execution_count": 21,
      "outputs": [
        {
          "output_type": "stream",
          "name": "stdout",
          "text": [
            "4110E222 - 麥聖嬰\n",
            "['pineapple', 'strawberry', 'watermelon', 'chicken', 'zebra']\n"
          ]
        }
      ]
    },
    {
      "cell_type": "markdown",
      "source": [
        "Remove List Items\n",
        "\n",
        "Remove Specified Item"
      ],
      "metadata": {
        "id": "gDuHormCNbSr"
      }
    },
    {
      "cell_type": "code",
      "source": [
        "print(\"4110E222 - 麥聖嬰\")\n",
        "thislist = [\"pineapple\", \"strawberry\", \"watermelon\"]\n",
        "thislist.remove(\"watermelon\")\n",
        "print(thislist)"
      ],
      "metadata": {
        "colab": {
          "base_uri": "https://localhost:8080/"
        },
        "id": "zrfG9CnDNZ9u",
        "outputId": "89f44fa5-f2a2-45f5-9a75-da2a41682ea7"
      },
      "execution_count": 22,
      "outputs": [
        {
          "output_type": "stream",
          "name": "stdout",
          "text": [
            "4110E222 - 麥聖嬰\n",
            "['pineapple', 'strawberry']\n"
          ]
        }
      ]
    },
    {
      "cell_type": "markdown",
      "source": [
        "Remove Specified Index"
      ],
      "metadata": {
        "id": "mwOccM8gNgmR"
      }
    },
    {
      "cell_type": "code",
      "source": [
        "print(\"4110E222 - 麥聖嬰\")\n",
        "thislist = [\"pineapple\", \"strawberry\", \"watermelon\"]\n",
        "thislist.pop(2)\n",
        "print(thislist)"
      ],
      "metadata": {
        "colab": {
          "base_uri": "https://localhost:8080/"
        },
        "id": "thBBv7sPNihS",
        "outputId": "bf53d3b3-f74e-4e8a-8d86-eea41ce14b49"
      },
      "execution_count": 23,
      "outputs": [
        {
          "output_type": "stream",
          "name": "stdout",
          "text": [
            "4110E222 - 麥聖嬰\n",
            "['pineapple', 'strawberry']\n"
          ]
        }
      ]
    },
    {
      "cell_type": "markdown",
      "source": [
        "If you do not specify the index, the pop() method removes the last item."
      ],
      "metadata": {
        "id": "wy81lEWZNkYb"
      }
    },
    {
      "cell_type": "code",
      "source": [
        "print(\"4110E222 - 麥聖嬰\")\n",
        "thislist = [\"pineapple\", \"strawberry\", \"watermelon\"]\n",
        "thislist.pop()\n",
        "print(thislist)"
      ],
      "metadata": {
        "colab": {
          "base_uri": "https://localhost:8080/"
        },
        "id": "G7xSUvTWNm47",
        "outputId": "d74a1b8b-f0a7-424a-c941-3ec24af38662"
      },
      "execution_count": 24,
      "outputs": [
        {
          "output_type": "stream",
          "name": "stdout",
          "text": [
            "4110E222 - 麥聖嬰\n",
            "['pineapple', 'strawberry']\n"
          ]
        }
      ]
    },
    {
      "cell_type": "markdown",
      "source": [
        "The del keyword also removes the specified index:"
      ],
      "metadata": {
        "id": "ECRYKHGBNo25"
      }
    },
    {
      "cell_type": "code",
      "source": [
        "print(\"4110E222 - 麥聖嬰\")\n",
        "thislist = [\"pineapple\", \"strawberry\", \"watermelon\"]\n",
        "del thislist[2]\n",
        "print(thislist)"
      ],
      "metadata": {
        "colab": {
          "base_uri": "https://localhost:8080/"
        },
        "id": "r1EjzWq8Nqlt",
        "outputId": "ae413b69-c32a-4c2a-a57b-0d2b8c3e137a"
      },
      "execution_count": 25,
      "outputs": [
        {
          "output_type": "stream",
          "name": "stdout",
          "text": [
            "4110E222 - 麥聖嬰\n",
            "['pineapple', 'strawberry']\n"
          ]
        }
      ]
    },
    {
      "cell_type": "markdown",
      "source": [
        "The del keyword can also delete the list completely."
      ],
      "metadata": {
        "id": "jTw-B71GNtSd"
      }
    },
    {
      "cell_type": "code",
      "source": [
        "print(\"4110E222 - 麥聖嬰\")\n",
        "thislist = [\"pineapple\", \"strawberry\", \"watermelon\"]\n",
        "del thislist"
      ],
      "metadata": {
        "colab": {
          "base_uri": "https://localhost:8080/"
        },
        "id": "hGaC8-rnNs4c",
        "outputId": "e6f9a701-07eb-4b07-a401-5b284a38d29b"
      },
      "execution_count": 26,
      "outputs": [
        {
          "output_type": "stream",
          "name": "stdout",
          "text": [
            "4110E222 - 麥聖嬰\n"
          ]
        }
      ]
    },
    {
      "cell_type": "markdown",
      "source": [
        "Clear the List"
      ],
      "metadata": {
        "id": "Cfh7UoGNNyUn"
      }
    },
    {
      "cell_type": "code",
      "source": [
        "print(\"4110E222 - 麥聖嬰\")\n",
        "thislist = [\"pineapple\", \"strawberry\", \"watermelon\"]\n",
        "thislist.clear()\n",
        "print(thislist)"
      ],
      "metadata": {
        "colab": {
          "base_uri": "https://localhost:8080/"
        },
        "id": "4ZBjuGFYN0QX",
        "outputId": "90220b7b-c707-4617-b7a0-7ceb527c69cb"
      },
      "execution_count": 27,
      "outputs": [
        {
          "output_type": "stream",
          "name": "stdout",
          "text": [
            "4110E222 - 麥聖嬰\n",
            "[]\n"
          ]
        }
      ]
    },
    {
      "cell_type": "markdown",
      "source": [
        "Sort Lists\n",
        "\n",
        "Sort List Alphanumerically"
      ],
      "metadata": {
        "id": "Qchmi1iqN2Hh"
      }
    },
    {
      "cell_type": "code",
      "source": [
        "print(\"4110E222 - 麥聖嬰\")\n",
        "thislist = [\"pineapple\", \"zebra\", \"strawberry\", \"chicken\", \"watermelon\"]\n",
        "thislist.sort()\n",
        "print(thislist)"
      ],
      "metadata": {
        "colab": {
          "base_uri": "https://localhost:8080/"
        },
        "id": "Z-_ZT-Z4N4ly",
        "outputId": "ac2f1575-2ef8-4f7d-d092-797a3eae710e"
      },
      "execution_count": 28,
      "outputs": [
        {
          "output_type": "stream",
          "name": "stdout",
          "text": [
            "4110E222 - 麥聖嬰\n",
            "['chicken', 'pineapple', 'strawberry', 'watermelon', 'zebra']\n"
          ]
        }
      ]
    },
    {
      "cell_type": "code",
      "source": [
        "print(\"4110E222 - 麥聖嬰\")\n",
        "thislist = [99, 100, 98, 96, 97]\n",
        "thislist.sort()\n",
        "print(thislist)"
      ],
      "metadata": {
        "colab": {
          "base_uri": "https://localhost:8080/"
        },
        "id": "Rn6hcyAbN9WV",
        "outputId": "eb2bcc98-a3ba-4c6c-d48b-cbf67afcce9e"
      },
      "execution_count": 29,
      "outputs": [
        {
          "output_type": "stream",
          "name": "stdout",
          "text": [
            "4110E222 - 麥聖嬰\n",
            "[96, 97, 98, 99, 100]\n"
          ]
        }
      ]
    },
    {
      "cell_type": "markdown",
      "source": [
        "Sort Descending"
      ],
      "metadata": {
        "id": "guWjqKLpN_Lk"
      }
    },
    {
      "cell_type": "code",
      "source": [
        "print(\"4110E222 - 麥聖嬰\")\n",
        "thislist = [\"pineapple\", \"zebra\", \"strawberry\", \"chicken\", \"watermelon\"]\n",
        "thislist.sort(reverse = True)\n",
        "print(thislist)"
      ],
      "metadata": {
        "colab": {
          "base_uri": "https://localhost:8080/"
        },
        "id": "3AUn0aEqOBB6",
        "outputId": "95d825e7-77b6-4b55-a3b3-5223fe6cd7a5"
      },
      "execution_count": 30,
      "outputs": [
        {
          "output_type": "stream",
          "name": "stdout",
          "text": [
            "4110E222 - 麥聖嬰\n",
            "['zebra', 'watermelon', 'strawberry', 'pineapple', 'chicken']\n"
          ]
        }
      ]
    },
    {
      "cell_type": "code",
      "source": [
        "print(\"4110E222 - 麥聖嬰\")\n",
        "thislist = [99, 100, 98, 96, 97]\n",
        "thislist.sort(reverse = True)\n",
        "print(thislist)"
      ],
      "metadata": {
        "colab": {
          "base_uri": "https://localhost:8080/"
        },
        "id": "0-bH3DbgOC41",
        "outputId": "b1a5c8c5-b572-4300-fb86-6ff495b82787"
      },
      "execution_count": 31,
      "outputs": [
        {
          "output_type": "stream",
          "name": "stdout",
          "text": [
            "4110E222 - 麥聖嬰\n",
            "[100, 99, 98, 97, 96]\n"
          ]
        }
      ]
    },
    {
      "cell_type": "markdown",
      "source": [
        "Copy Lists"
      ],
      "metadata": {
        "id": "opCY4FzHOHDc"
      }
    },
    {
      "cell_type": "code",
      "source": [
        "print(\"4110E222 - 麥聖嬰\")\n",
        "list = [\"pineapple\", \"strawberry\", \"watermelon\"]\n",
        "mylist = list.copy()\n",
        "print(mylist)"
      ],
      "metadata": {
        "colab": {
          "base_uri": "https://localhost:8080/"
        },
        "id": "5U889qxLOJHn",
        "outputId": "b28f8a49-bfa1-43f3-dd4b-2f5f7e652dc5"
      },
      "execution_count": 32,
      "outputs": [
        {
          "output_type": "stream",
          "name": "stdout",
          "text": [
            "4110E222 - 麥聖嬰\n",
            "['pineapple', 'strawberry', 'watermelon']\n"
          ]
        }
      ]
    },
    {
      "cell_type": "markdown",
      "source": [
        "Join Lists\n",
        "\n",
        "Join Two Lists"
      ],
      "metadata": {
        "id": "wYS8nJQYOL1Z"
      }
    },
    {
      "cell_type": "code",
      "source": [
        "print(\"4110E222 - 麥聖嬰\")\n",
        "firstlist = [\"pineapple\", \"strawberry\", \"watermelon\"]\n",
        "secondlist = [True, False]\n",
        "\n",
        "list = firstlist + secondlist\n",
        "print(list)"
      ],
      "metadata": {
        "colab": {
          "base_uri": "https://localhost:8080/"
        },
        "id": "gKLDrDOUOOBY",
        "outputId": "c9f1c73f-69da-4cbb-bb4a-aa815c78027f"
      },
      "execution_count": 33,
      "outputs": [
        {
          "output_type": "stream",
          "name": "stdout",
          "text": [
            "4110E222 - 麥聖嬰\n",
            "['pineapple', 'strawberry', 'watermelon', True, False]\n"
          ]
        }
      ]
    },
    {
      "cell_type": "markdown",
      "source": [
        "Another way to join two lists is by appending all the items from secondlist into firstlist, one by one:"
      ],
      "metadata": {
        "id": "c_zHcsb4OQRu"
      }
    },
    {
      "cell_type": "code",
      "source": [
        "print(\"4110E222 - 麥聖嬰\")\n",
        "firstlist = [\"pineapple\", \"strawberry\", \"watermelon\"]\n",
        "secondlist = [True, False]\n",
        "\n",
        "for x in secondlist:\n",
        "  firstlist.append(x)\n",
        "\n",
        "print(firstlist)"
      ],
      "metadata": {
        "colab": {
          "base_uri": "https://localhost:8080/"
        },
        "id": "1S-_BiFEOSGL",
        "outputId": "6337f3c4-be12-4d06-fc06-db6d9a630609"
      },
      "execution_count": 34,
      "outputs": [
        {
          "output_type": "stream",
          "name": "stdout",
          "text": [
            "4110E222 - 麥聖嬰\n",
            "['pineapple', 'strawberry', 'watermelon', True, False]\n"
          ]
        }
      ]
    },
    {
      "cell_type": "markdown",
      "source": [
        "Or you can use the extend() method, which purpose is to add elements from one list to another list:"
      ],
      "metadata": {
        "id": "K0NEs4H-OUDC"
      }
    },
    {
      "cell_type": "code",
      "source": [
        "print(\"4110E222 - 麥聖嬰\")\n",
        "firstlist = [\"pineapple\", \"strawberry\", \"watermelon\"]\n",
        "secondlist = [True, False]\n",
        "\n",
        "firstlist.extend(secondlist)\n",
        "print(firstlist)"
      ],
      "metadata": {
        "colab": {
          "base_uri": "https://localhost:8080/"
        },
        "id": "AH8yq9P7OWEk",
        "outputId": "ca93ddb2-a34f-401d-a17f-976b87dfc238"
      },
      "execution_count": 35,
      "outputs": [
        {
          "output_type": "stream",
          "name": "stdout",
          "text": [
            "4110E222 - 麥聖嬰\n",
            "['pineapple', 'strawberry', 'watermelon', True, False]\n"
          ]
        }
      ]
    },
    {
      "cell_type": "markdown",
      "source": [
        "List Methods"
      ],
      "metadata": {
        "id": "JGyNr9mKO5Qc"
      }
    },
    {
      "cell_type": "code",
      "source": [
        "print(\"4110E222 - 麥聖嬰\")\n",
        "list = [\"pineapple\", \"strawberry\", \"watermelon\"]\n",
        "\n",
        "x = list.count(\"strawberry\")\n",
        "print(x)"
      ],
      "metadata": {
        "colab": {
          "base_uri": "https://localhost:8080/"
        },
        "id": "Z5Q7jQT4OYBb",
        "outputId": "a7433191-e792-4d9c-8eaa-fd1f0f9798b8"
      },
      "execution_count": 36,
      "outputs": [
        {
          "output_type": "stream",
          "name": "stdout",
          "text": [
            "4110E222 - 麥聖嬰\n",
            "1\n"
          ]
        }
      ]
    },
    {
      "cell_type": "markdown",
      "source": [
        "1"
      ],
      "metadata": {
        "id": "-0mhQ_PSO6_b"
      }
    },
    {
      "cell_type": "code",
      "source": [
        "print(\"4110E222 - 麥聖嬰\")\n",
        "list = [\"pineapple\", \"strawberry\", \"watermelon\"]\n",
        "\n",
        "x = list.index(\"strawberry\")\n",
        "print(x)"
      ],
      "metadata": {
        "colab": {
          "base_uri": "https://localhost:8080/"
        },
        "id": "atA2vU-HO2Ro",
        "outputId": "3b3a577c-f56a-479d-a6e5-8fd3fa2aba79"
      },
      "execution_count": 37,
      "outputs": [
        {
          "output_type": "stream",
          "name": "stdout",
          "text": [
            "4110E222 - 麥聖嬰\n",
            "1\n"
          ]
        }
      ]
    },
    {
      "cell_type": "markdown",
      "source": [
        "1"
      ],
      "metadata": {
        "id": "KquByiB3PAHf"
      }
    },
    {
      "cell_type": "code",
      "source": [
        "print(\"4110E222 - 麥聖嬰\")\n",
        "list1 = [\"pineapple\", \"strawberry\", \"watermelon\"]\n",
        "\n",
        "list1.reverse()\n",
        "\n",
        "print(list1)"
      ],
      "metadata": {
        "colab": {
          "base_uri": "https://localhost:8080/"
        },
        "id": "0JLqinfsPA3Q",
        "outputId": "b2b80e5a-d68f-4c47-c263-6927f4c79c49"
      },
      "execution_count": 38,
      "outputs": [
        {
          "output_type": "stream",
          "name": "stdout",
          "text": [
            "4110E222 - 麥聖嬰\n",
            "['watermelon', 'strawberry', 'pineapple']\n"
          ]
        }
      ]
    },
    {
      "cell_type": "code",
      "source": [
        "print(\"4110E222 - 麥聖嬰\")\n",
        "list1 = [\"pineapple\", \"strawberry\", \"watermelon\"]\n",
        "\n",
        "print(list1[::-1])"
      ],
      "metadata": {
        "colab": {
          "base_uri": "https://localhost:8080/"
        },
        "id": "BtazZ1yRPEJM",
        "outputId": "de96c0f8-0e7a-4dae-e72c-24a8ac8cef60"
      },
      "execution_count": 39,
      "outputs": [
        {
          "output_type": "stream",
          "name": "stdout",
          "text": [
            "4110E222 - 麥聖嬰\n",
            "['watermelon', 'strawberry', 'pineapple']\n"
          ]
        }
      ]
    }
  ]
}