{
  "nbformat": 4,
  "nbformat_minor": 0,
  "metadata": {
    "colab": {
      "provenance": [],
      "collapsed_sections": []
    },
    "kernelspec": {
      "name": "python3",
      "display_name": "Python 3"
    },
    "language_info": {
      "name": "python"
    }
  },
  "cells": [
    {
      "cell_type": "code",
      "execution_count": 1,
      "metadata": {
        "colab": {
          "base_uri": "https://localhost:8080/"
        },
        "id": "pe3svTYFHkCn",
        "outputId": "68056a99-776a-4be4-92d5-653ee535e167"
      },
      "outputs": [
        {
          "output_type": "stream",
          "name": "stdout",
          "text": [
            "Sum from 1 to 123 is 7626\n",
            "Sum from 5 to 10 is 45\n",
            "Sum from 50 to 100 is 3825\n"
          ]
        }
      ],
      "source": [
        "def sum(i1, i2):\n",
        "    result = 0\n",
        "    for i in range(i1, i2+1):\n",
        "        result += i\n",
        "    return result\n",
        "\n",
        "def main():\n",
        "    print(\"Sum from 1 to 123 is\", sum(1, 123)) \n",
        "    print(\"Sum from 5 to 10 is\", sum(5, 10))\n",
        "    print(\"Sum from 50 to 100 is\", sum(50, 100))\n",
        "\n",
        "main() # Call the main function"
      ]
    },
    {
      "cell_type": "markdown",
      "source": [
        "f(101)"
      ],
      "metadata": {
        "id": "vUVp5iAxJINX"
      }
    },
    {
      "cell_type": "code",
      "source": [
        "def f(n):\n",
        "   if n == 1:\n",
        "     return 1\n",
        "   else:\n",
        "     return f(n-1) + n\n",
        "\n",
        "f(101)"
      ],
      "metadata": {
        "colab": {
          "base_uri": "https://localhost:8080/"
        },
        "id": "bxPFkAlqI_QB",
        "outputId": "497b7471-c80b-447f-c549-b7780a4b3755"
      },
      "execution_count": 2,
      "outputs": [
        {
          "output_type": "execute_result",
          "data": {
            "text/plain": [
              "5151"
            ]
          },
          "metadata": {},
          "execution_count": 2
        }
      ]
    },
    {
      "cell_type": "markdown",
      "source": [
        "Fibonacci Sequence"
      ],
      "metadata": {
        "id": "9UepZYfEJK-v"
      }
    },
    {
      "cell_type": "code",
      "source": [
        "def f(n):\n",
        "  if n == 0:\n",
        "    return 0\n",
        "  if n == 1:\n",
        "    return 1\n",
        "  else:\n",
        "    return f(n-1) + f(n-2)\n",
        "\n",
        "f(6) #in this code note that the n starts at 0"
      ],
      "metadata": {
        "colab": {
          "base_uri": "https://localhost:8080/"
        },
        "id": "c9eUh5ydJDVj",
        "outputId": "a365b52c-506e-4d12-bb9e-765d71c0924f"
      },
      "execution_count": 3,
      "outputs": [
        {
          "output_type": "execute_result",
          "data": {
            "text/plain": [
              "8"
            ]
          },
          "metadata": {},
          "execution_count": 3
        }
      ]
    },
    {
      "cell_type": "code",
      "source": [
        "def f(n):\n",
        "  a = 0\n",
        "  b = 1\n",
        "  if n == 0:\n",
        "    return a\n",
        "  if n == 1:\n",
        "    return b\n",
        "  else:\n",
        "    for i in range(2,n):\n",
        "        c = a + b\n",
        "        a = b\n",
        "        b = c\n",
        "    return b\n",
        "f(7) #in this code note that the n starts at 1"
      ],
      "metadata": {
        "colab": {
          "base_uri": "https://localhost:8080/"
        },
        "id": "YNOxT105JUkQ",
        "outputId": "55e2be60-721f-4324-e45d-9f3b30a57238"
      },
      "execution_count": 4,
      "outputs": [
        {
          "output_type": "execute_result",
          "data": {
            "text/plain": [
              "8"
            ]
          },
          "metadata": {},
          "execution_count": 4
        }
      ]
    }
  ]
}