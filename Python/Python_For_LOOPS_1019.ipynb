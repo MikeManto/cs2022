{
  "nbformat": 4,
  "nbformat_minor": 0,
  "metadata": {
    "colab": {
      "provenance": [],
      "collapsed_sections": []
    },
    "kernelspec": {
      "name": "python3",
      "display_name": "Python 3"
    },
    "language_info": {
      "name": "python"
    }
  },
  "cells": [
    {
      "cell_type": "markdown",
      "source": [
        "1019 4110E222\n",
        "\n",
        "For Loops\n",
        "\n",
        "A for loop is used for iterating over a sequence (that is either a list, a tuple, a dictionary, a set, or a string).\n",
        "\n",
        "Print each fruit in a fruit list:"
      ],
      "metadata": {
        "id": "RRczMBvyBwBT"
      }
    },
    {
      "cell_type": "code",
      "source": [
        "fruits = [\"pineapple\", \"Apple\", \"Papaya\"]\n",
        "for x in fruits:\n",
        "  print(x)"
      ],
      "metadata": {
        "colab": {
          "base_uri": "https://localhost:8080/"
        },
        "id": "EmUgNlocBTeO",
        "outputId": "314581a0-0a96-4b0f-a79c-90f262c61f67"
      },
      "execution_count": 1,
      "outputs": [
        {
          "output_type": "stream",
          "name": "stdout",
          "text": [
            "pineapple\n",
            "Apple\n",
            "Papaya\n"
          ]
        }
      ]
    },
    {
      "cell_type": "markdown",
      "source": [
        "The for loop does not require an indexing variable to set beforehand.\n",
        "\n",
        "Looping Through a String\n",
        "\n",
        "Even strings are iterable objects, they contain a sequence of characters:"
      ],
      "metadata": {
        "id": "M5DJ8vVDBqxe"
      }
    },
    {
      "cell_type": "code",
      "source": [
        "for x in \"pineapple\":\n",
        "  print(x)"
      ],
      "metadata": {
        "colab": {
          "base_uri": "https://localhost:8080/"
        },
        "id": "woBI3PdsBr0X",
        "outputId": "1ab74f31-6799-47d5-dc48-10630fb8130d"
      },
      "execution_count": 2,
      "outputs": [
        {
          "output_type": "stream",
          "name": "stdout",
          "text": [
            "p\n",
            "i\n",
            "n\n",
            "e\n",
            "a\n",
            "p\n",
            "p\n",
            "l\n",
            "e\n"
          ]
        }
      ]
    },
    {
      "cell_type": "markdown",
      "source": [
        "The break Statement\n",
        "\n",
        "With the break statement we can stop the loop before it has looped through all the items:"
      ],
      "metadata": {
        "id": "ugD6O63HB_dO"
      }
    },
    {
      "cell_type": "code",
      "source": [
        "fruits = [\"pineapple\", \"Apple\", \"Papaya\"]\n",
        "for x in fruits:\n",
        "  print(x)\n",
        "  if x == \"Apple\":\n",
        "    break"
      ],
      "metadata": {
        "colab": {
          "base_uri": "https://localhost:8080/"
        },
        "id": "jkbcDydfCD6n",
        "outputId": "432015be-b75a-4a4c-c286-e1c1b737ec1d"
      },
      "execution_count": 4,
      "outputs": [
        {
          "output_type": "stream",
          "name": "stdout",
          "text": [
            "pineapple\n",
            "Apple\n"
          ]
        }
      ]
    },
    {
      "cell_type": "markdown",
      "source": [
        "Exit the loop when x is \"banana\", but this time the break comes before the print:"
      ],
      "metadata": {
        "id": "KRrq6gbrCTjX"
      }
    },
    {
      "cell_type": "code",
      "source": [
        "fruits = [\"pineapple\", \"Apple\", \"Papaya\"]\n",
        "for x in fruits:\n",
        "  if x == \"Apple\":\n",
        "    break\n",
        "  print(x)"
      ],
      "metadata": {
        "colab": {
          "base_uri": "https://localhost:8080/"
        },
        "id": "fpDS1WF8CYMV",
        "outputId": "55b08c4e-e3b7-4d05-b186-71766e10addb"
      },
      "execution_count": 6,
      "outputs": [
        {
          "output_type": "stream",
          "name": "stdout",
          "text": [
            "pineapple\n"
          ]
        }
      ]
    },
    {
      "cell_type": "markdown",
      "source": [
        "With the continue statement we can stop the current iteration of the loop, and continue with the next:"
      ],
      "metadata": {
        "id": "AL_4QM39Ci49"
      }
    },
    {
      "cell_type": "code",
      "source": [
        "fruits = [\"pineapple\", \"Apple\", \"Papaya\"]\n",
        "for x in fruits:\n",
        "  if x == \"Apple\":\n",
        "    continue\n",
        "  print(x)"
      ],
      "metadata": {
        "colab": {
          "base_uri": "https://localhost:8080/"
        },
        "id": "g00HJzAiCl9c",
        "outputId": "6054540d-abc4-453a-95c8-fd0a63171c23"
      },
      "execution_count": 8,
      "outputs": [
        {
          "output_type": "stream",
          "name": "stdout",
          "text": [
            "pineapple\n",
            "Papaya\n"
          ]
        }
      ]
    },
    {
      "cell_type": "markdown",
      "source": [
        "The range() Function\n",
        "\n",
        "To loop through a set of code a specified number of times, we can use the range() function,\n",
        "\n",
        "The range() function returns a sequence of numbers, starting from 0 by default, and increments by 1 (by default), and ends at a specified number."
      ],
      "metadata": {
        "id": "bBTSSxt9Cx4H"
      }
    },
    {
      "cell_type": "code",
      "source": [
        "for x in range(5):\n",
        "  print(x)\n",
        "# Note that range(5) is not the values of 0 to 5, but the values 0 to 4."
      ],
      "metadata": {
        "colab": {
          "base_uri": "https://localhost:8080/"
        },
        "id": "AjR_xkDUC0_f",
        "outputId": "fb91dc1a-aa70-4ce6-bd7e-b243e78adca0"
      },
      "execution_count": 9,
      "outputs": [
        {
          "output_type": "stream",
          "name": "stdout",
          "text": [
            "0\n",
            "1\n",
            "2\n",
            "3\n",
            "4\n"
          ]
        }
      ]
    },
    {
      "cell_type": "markdown",
      "source": [
        "The range() function defaults to 0 as a starting value, however it is possible to specify the starting value by adding a parameter: range(1, 5), which means values from 1 to 10 (but not including 5):"
      ],
      "metadata": {
        "id": "v1em7t2IDAmh"
      }
    },
    {
      "cell_type": "code",
      "source": [
        "for x in range(1, 5):\n",
        "  print(x)"
      ],
      "metadata": {
        "colab": {
          "base_uri": "https://localhost:8080/"
        },
        "id": "BDWGyqOeDDlQ",
        "outputId": "8ddc2d35-8615-4425-f614-8dc95e790515"
      },
      "execution_count": 10,
      "outputs": [
        {
          "output_type": "stream",
          "name": "stdout",
          "text": [
            "1\n",
            "2\n",
            "3\n",
            "4\n"
          ]
        }
      ]
    },
    {
      "cell_type": "markdown",
      "source": [
        "The range() function defaults to increment the sequence by 1, however it is possible to specify the increment value by adding a third parameter: range(1, 5, 2):"
      ],
      "metadata": {
        "id": "6ajNdup1DQOR"
      }
    },
    {
      "cell_type": "code",
      "source": [
        "for x in range(1, 5, 2):\n",
        "  print(x)"
      ],
      "metadata": {
        "colab": {
          "base_uri": "https://localhost:8080/"
        },
        "id": "4VshAZuvDXKl",
        "outputId": "126babd9-3c70-412b-f761-0d3b604eda4a"
      },
      "execution_count": 11,
      "outputs": [
        {
          "output_type": "stream",
          "name": "stdout",
          "text": [
            "1\n",
            "3\n"
          ]
        }
      ]
    },
    {
      "cell_type": "markdown",
      "source": [
        "Else in For Loop\n",
        "\n",
        "The else keyword in a for loop specifies a block of code to be executed when the loop is finished:"
      ],
      "metadata": {
        "id": "rN5B2SVDDdzv"
      }
    },
    {
      "cell_type": "code",
      "source": [
        "for x in range(5):\n",
        "  print(x)\n",
        "else:\n",
        "  print(\"Done!\")"
      ],
      "metadata": {
        "colab": {
          "base_uri": "https://localhost:8080/"
        },
        "id": "og8OyaBlDgmm",
        "outputId": "aa55cae9-9641-4726-d134-21a06442eae9"
      },
      "execution_count": 12,
      "outputs": [
        {
          "output_type": "stream",
          "name": "stdout",
          "text": [
            "0\n",
            "1\n",
            "2\n",
            "3\n",
            "4\n",
            "Done!\n"
          ]
        }
      ]
    },
    {
      "cell_type": "markdown",
      "source": [
        "Note: The else block will NOT be executed if the loop is stopped by a break statement."
      ],
      "metadata": {
        "id": "Vlc-zO1GDmQc"
      }
    },
    {
      "cell_type": "code",
      "source": [
        "for x in range(5):\n",
        "  if x == 3: break\n",
        "  print(x)\n",
        "else:\n",
        "  print(\"Done!\")"
      ],
      "metadata": {
        "colab": {
          "base_uri": "https://localhost:8080/"
        },
        "id": "KtmjJ3QcDptz",
        "outputId": "800bcb9a-93e4-4569-deab-583a6db22127"
      },
      "execution_count": 13,
      "outputs": [
        {
          "output_type": "stream",
          "name": "stdout",
          "text": [
            "0\n",
            "1\n",
            "2\n"
          ]
        }
      ]
    },
    {
      "cell_type": "markdown",
      "source": [
        "Nested Loops\n",
        "\n",
        "A nested loop is a loop inside a loop.\n",
        "\n",
        "The \"inner loop\" will be executed one time for each iteration of the \"outer loop\":"
      ],
      "metadata": {
        "id": "zS14G7V5DyRK"
      }
    },
    {
      "cell_type": "code",
      "source": [
        "adj = [\"medium\", \"Favorite\", \"sweet\"]\n",
        "fruits = [\"pineapple\", \"Apple\", \"papaya\"]\n",
        "\n",
        "for x in adj:\n",
        "  for y in fruits:\n",
        "    print(x, y)"
      ],
      "metadata": {
        "colab": {
          "base_uri": "https://localhost:8080/"
        },
        "id": "GuqNzqMND1Nj",
        "outputId": "ad24f63c-80a9-486e-8652-4f16803d9c57"
      },
      "execution_count": 14,
      "outputs": [
        {
          "output_type": "stream",
          "name": "stdout",
          "text": [
            "medium pineapple\n",
            "medium Apple\n",
            "medium papaya\n",
            "Favorite pineapple\n",
            "Favorite Apple\n",
            "Favorite papaya\n",
            "sweet pineapple\n",
            "sweet Apple\n",
            "sweet papaya\n"
          ]
        }
      ]
    },
    {
      "cell_type": "markdown",
      "source": [
        "The pass Statement\n",
        "\n",
        "for loops cannot be empty, but if you for some reason have a for loop with no content, put in the pass statement to avoid getting an error."
      ],
      "metadata": {
        "id": "4xQ-iyrdEFaj"
      }
    },
    {
      "cell_type": "code",
      "source": [
        "for x in [\"yellow\", \"violet\", \"pink\"]:\n",
        "  pass"
      ],
      "metadata": {
        "id": "d34KDxyNEH1t"
      },
      "execution_count": 15,
      "outputs": []
    }
  ]
}