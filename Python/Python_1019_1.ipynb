{
  "nbformat": 4,
  "nbformat_minor": 0,
  "metadata": {
    "colab": {
      "provenance": [],
      "collapsed_sections": []
    },
    "kernelspec": {
      "name": "python3",
      "display_name": "Python 3"
    },
    "language_info": {
      "name": "python"
    }
  },
  "cells": [
    {
      "cell_type": "markdown",
      "source": [
        "### **1019 4110E222**\n",
        "\n",
        "Python Conditions and If statements\n",
        "\n",
        "Exercise 1 : Print \"Hi\" if a is greater than b."
      ],
      "metadata": {
        "id": "niyG_yFUE-jc"
      }
    },
    {
      "cell_type": "code",
      "source": [
        "a = 10\n",
        "b = 9\n",
        "if a > b:\n",
        "    print(\"Hi\")"
      ],
      "metadata": {
        "colab": {
          "base_uri": "https://localhost:8080/"
        },
        "id": "cQt3QioZFGc-",
        "outputId": "037b23b2-d1e5-47fc-c096-cc6aba8b060c"
      },
      "execution_count": 1,
      "outputs": [
        {
          "output_type": "stream",
          "name": "stdout",
          "text": [
            "Hi\n"
          ]
        }
      ]
    },
    {
      "cell_type": "markdown",
      "source": [
        "Exercise 2 : Print \"Hi\" if a is not equal to b."
      ],
      "metadata": {
        "id": "zqCG7OGGFSZt"
      }
    },
    {
      "cell_type": "code",
      "source": [
        "a = 10\n",
        "b = 9\n",
        "if a != b:\n",
        "    print(\"Hi\")"
      ],
      "metadata": {
        "colab": {
          "base_uri": "https://localhost:8080/"
        },
        "id": "siAZ82tpFVEd",
        "outputId": "fe4e6231-1c35-4917-a0a0-3e6f415ab220"
      },
      "execution_count": 2,
      "outputs": [
        {
          "output_type": "stream",
          "name": "stdout",
          "text": [
            "Hi\n"
          ]
        }
      ]
    },
    {
      "cell_type": "markdown",
      "source": [
        "Exercise 3 : Print \"YES\" if a is equal to b, otherwise print \"NO\"."
      ],
      "metadata": {
        "id": "K8mCNsroFc9q"
      }
    },
    {
      "cell_type": "code",
      "source": [
        "a = 10\n",
        "b = 9\n",
        "if a == b:\n",
        "  print(\"YES\")\n",
        "else:\n",
        "  print(\"NO\")"
      ],
      "metadata": {
        "colab": {
          "base_uri": "https://localhost:8080/"
        },
        "id": "AY1dzTTsFfT6",
        "outputId": "5fefc4fe-2b4c-4dcf-b1a1-d28984a5bf57"
      },
      "execution_count": 3,
      "outputs": [
        {
          "output_type": "stream",
          "name": "stdout",
          "text": [
            "NO\n"
          ]
        }
      ]
    },
    {
      "cell_type": "markdown",
      "source": [
        "Exercise 4 : Print \"yes\" if a is equal to b, print \"maybe\" if a is greater than b, otherwise print \"no\"."
      ],
      "metadata": {
        "id": "wYcxcKpjFjwS"
      }
    },
    {
      "cell_type": "code",
      "source": [
        "a = 10\n",
        "b = 9\n",
        "if a == b:\n",
        "  print(\"yes\")\n",
        "elif a > b:\n",
        "  print(\"maybe\")\n",
        "else:\n",
        "  print(\"no\")"
      ],
      "metadata": {
        "colab": {
          "base_uri": "https://localhost:8080/"
        },
        "id": "QeGPcRaEFmIP",
        "outputId": "cd407cb1-9f58-4d45-f2c6-de45d2efbe9f"
      },
      "execution_count": 4,
      "outputs": [
        {
          "output_type": "stream",
          "name": "stdout",
          "text": [
            "maybe\n"
          ]
        }
      ]
    },
    {
      "cell_type": "markdown",
      "source": [
        "Exercise 5 : Print \"Hi\" if a is equal to b, and c is equal to d."
      ],
      "metadata": {
        "id": "GTtyFKr8FrdK"
      }
    },
    {
      "cell_type": "code",
      "source": [
        "a = 10\n",
        "b = 10\n",
        "c = 10\n",
        "d = 10\n",
        "if a == b and c == d:\n",
        "  print(\"Hi\")"
      ],
      "metadata": {
        "colab": {
          "base_uri": "https://localhost:8080/"
        },
        "id": "EZ1uTfpDFuoC",
        "outputId": "1b2a3ab8-96ac-4b16-ff71-abf7ef7e6c39"
      },
      "execution_count": 5,
      "outputs": [
        {
          "output_type": "stream",
          "name": "stdout",
          "text": [
            "Hi\n"
          ]
        }
      ]
    },
    {
      "cell_type": "markdown",
      "source": [
        "Exercise 6 : Print \"Hey\" if a is equal to b, or if c is equal to d."
      ],
      "metadata": {
        "id": "ZwicFkIoFy_K"
      }
    },
    {
      "cell_type": "code",
      "source": [
        "a = 10\n",
        "b = 9\n",
        "c = 10\n",
        "d = 70\n",
        "if a == c or c == d:\n",
        "  print(\"Hey\")"
      ],
      "metadata": {
        "colab": {
          "base_uri": "https://localhost:8080/"
        },
        "id": "jWr8kuP9F1Yo",
        "outputId": "385b8b05-2333-4039-9dd8-44064dc898ce"
      },
      "execution_count": 8,
      "outputs": [
        {
          "output_type": "stream",
          "name": "stdout",
          "text": [
            "Hey\n"
          ]
        }
      ]
    },
    {
      "cell_type": "markdown",
      "source": [
        "Exercise 7 : This example misses indentations to be correct.\n",
        "\n",
        "Insert the missing indentation to make the code correct:"
      ],
      "metadata": {
        "id": "T-yOARtjGM_C"
      }
    },
    {
      "cell_type": "code",
      "source": [
        "if 5 > 4:\n",
        "    print(\"Five is greater than four!\")"
      ],
      "metadata": {
        "colab": {
          "base_uri": "https://localhost:8080/"
        },
        "id": "ZMHCHQVxGPHr",
        "outputId": "1e6925ec-9def-4a49-f91d-3e3981ceb48a"
      },
      "execution_count": 9,
      "outputs": [
        {
          "output_type": "stream",
          "name": "stdout",
          "text": [
            "Five is greater than four!\n"
          ]
        }
      ]
    },
    {
      "cell_type": "markdown",
      "source": [
        "Exercise 8 : Use the correct short hand syntax to put the following statement on one line:"
      ],
      "metadata": {
        "id": "yDM-Vj8wGaD3"
      }
    },
    {
      "cell_type": "code",
      "source": [
        "if 5 > 4: print(\"Five is greater than four!\")"
      ],
      "metadata": {
        "colab": {
          "base_uri": "https://localhost:8080/"
        },
        "id": "vFoUIUclGcr_",
        "outputId": "17fdd9aa-0157-42f0-d920-ae338b8c9b62"
      },
      "execution_count": 10,
      "outputs": [
        {
          "output_type": "stream",
          "name": "stdout",
          "text": [
            "Five is greater than four!\n"
          ]
        }
      ]
    },
    {
      "cell_type": "markdown",
      "source": [
        "Exercise 9 : Use the correct short hand syntax to write the following conditional expression in one line:"
      ],
      "metadata": {
        "id": "kGV3OCTqGl4t"
      }
    },
    {
      "cell_type": "code",
      "source": [
        "print(\"Good\") if 5 > 9 else print(\"not Good\")"
      ],
      "metadata": {
        "colab": {
          "base_uri": "https://localhost:8080/"
        },
        "id": "5a6r2jW4GoHi",
        "outputId": "475b8e56-bf6f-4d57-d607-b66b1605a4d2"
      },
      "execution_count": 11,
      "outputs": [
        {
          "output_type": "stream",
          "name": "stdout",
          "text": [
            "not Good\n"
          ]
        }
      ]
    }
  ]
}