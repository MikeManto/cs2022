{
  "nbformat": 4,
  "nbformat_minor": 0,
  "metadata": {
    "colab": {
      "provenance": [],
      "collapsed_sections": []
    },
    "kernelspec": {
      "name": "python3",
      "display_name": "Python 3"
    },
    "language_info": {
      "name": "python"
    }
  },
  "cells": [
    {
      "cell_type": "code",
      "source": [
        "# Test 11/02/2022"
      ],
      "metadata": {
        "id": "jVi8byAxvbw_"
      },
      "execution_count": null,
      "outputs": []
    },
    {
      "cell_type": "code",
      "source": [
        "1. Which following is the correct way to create a dictionary in Python?\n",
        "   (A) students = { 'name' => 'alice' ;  'score' =>60 }\n",
        "   (B) students = { 'name' = 'alice' ;  'score' =60 }\n",
        "   (C) students = { 'name' : 'alice' ;  'score' : 60 }\n",
        "   (D) students = { 'name' => 'alice' ,  'score' =>60 }\n",
        "   (E) students = { 'name' : 'alice' , 'score' : 60 }"
      ],
      "metadata": {
        "id": "P8XrL1eyvooq"
      },
      "execution_count": null,
      "outputs": []
    },
    {
      "cell_type": "code",
      "source": [
        "thisdict =\t { 'name' : 'alice' , 'score' : 60 }\n",
        "print(thisdict)"
      ],
      "metadata": {
        "colab": {
          "base_uri": "https://localhost:8080/"
        },
        "id": "ot0QtL2pxGUb",
        "outputId": "3bddf448-8c6a-4917-81b6-4084b6107f65"
      },
      "execution_count": 5,
      "outputs": [
        {
          "output_type": "stream",
          "name": "stdout",
          "text": [
            "{'name': 'alice', 'score': 60}\n"
          ]
        }
      ]
    },
    {
      "cell_type": "markdown",
      "source": [
        "Answer: E"
      ],
      "metadata": {
        "id": "QLILA8-R9Gq1"
      }
    },
    {
      "cell_type": "code",
      "source": [
        "2. What does the following Python program fragment do?\n",
        "   s=0\n",
        "   for i in range (3 , 10) :\n",
        "        s+=i\n",
        "   print (s)\n",
        "   (A) Calculate the sum of 1+2+…+10\n",
        "   (B) Calculate the sum of 1+4+7+10\n",
        "   (C) Calculate the sum of 3+4+5+6+…+9\n",
        "   (D) Calculate the sum of 3+4+5+6+…+10\n",
        "   (E) Calculate the sum of 0+2+4+6+…+10"
      ],
      "metadata": {
        "id": "RsNAO69jxNvK"
      },
      "execution_count": null,
      "outputs": []
    },
    {
      "cell_type": "code",
      "source": [
        "for x in range(3, 10): \n",
        "  print(x) "
      ],
      "metadata": {
        "colab": {
          "base_uri": "https://localhost:8080/"
        },
        "id": "uPMobYCwxv_Z",
        "outputId": "7fa1b6a4-0ed3-43d0-cb70-c39ca38b2bfe"
      },
      "execution_count": 6,
      "outputs": [
        {
          "output_type": "stream",
          "name": "stdout",
          "text": [
            "3\n",
            "4\n",
            "5\n",
            "6\n",
            "7\n",
            "8\n",
            "9\n"
          ]
        }
      ]
    },
    {
      "cell_type": "markdown",
      "source": [
        "Answer: C"
      ],
      "metadata": {
        "id": "kexW2Lti9AST"
      }
    },
    {
      "cell_type": "code",
      "source": [
        "3. What is the output of this code in Python?\n",
        "      list = [ ' a ' ,  ' b ' ,  ' c ' ,  ' d ' ,  ' e ' ]\n",
        "      print (list [ 1 : ])\n",
        "   (A) [ ]\n",
        "   (B) [ 'b' ]\n",
        "   (C) [ 'a' ,  'b' ]\n",
        "   (D) [ 'b' ,  'c' ,  'd' ,  'e' ]"
      ],
      "metadata": {
        "id": "-UOwwd3BzsYz"
      },
      "execution_count": null,
      "outputs": []
    },
    {
      "cell_type": "code",
      "source": [
        "list = [ ' a ' ,  ' b ' ,  ' c ' ,  ' d ' ,  ' e ' ]\n",
        "print(list[1:])"
      ],
      "metadata": {
        "colab": {
          "base_uri": "https://localhost:8080/"
        },
        "id": "uTwqw0l6zx2t",
        "outputId": "95d7e8c5-86b5-4cf6-83d6-97e1b2f73faa"
      },
      "execution_count": 13,
      "outputs": [
        {
          "output_type": "stream",
          "name": "stdout",
          "text": [
            "[' b ', ' c ', ' d ', ' e ']\n"
          ]
        }
      ]
    },
    {
      "cell_type": "markdown",
      "source": [
        "Answer: D"
      ],
      "metadata": {
        "id": "Douf0pw996fW"
      }
    },
    {
      "cell_type": "code",
      "source": [
        "4. What is the output of this code in Python?\n",
        "        L1 = [ ]\n",
        "        L1.append ( [1, [2, 3], 4] )\n",
        "        L1.extend ( [7, 8, 9] )\n",
        "        print(L1[0][1][1] + L1[2] )\n",
        "   (A) 3  (B) 8  (C) 11  (D) 38  (E) None of these"
      ],
      "metadata": {
        "id": "YgKgKdY71zrL"
      },
      "execution_count": null,
      "outputs": []
    },
    {
      "cell_type": "code",
      "source": [
        "l1 = []\n",
        "\n",
        "l1 = [[1, [2, 3], 4]]\n",
        "l1 = [ [7, 8, 9]]\n",
        "\n",
        "l1.extend(l1)\n",
        "l1.append(l1)\n",
        "\n",
        "print(l1 + l1 )\n"
      ],
      "metadata": {
        "colab": {
          "base_uri": "https://localhost:8080/"
        },
        "id": "xZatN7g015FF",
        "outputId": "d3a1aa22-4ac2-442d-8509-90b9b39b46ce"
      },
      "execution_count": 22,
      "outputs": [
        {
          "output_type": "stream",
          "name": "stdout",
          "text": [
            "[[7, 8, 9], [7, 8, 9], [[7, 8, 9], [7, 8, 9], [...]], [7, 8, 9], [7, 8, 9], [[7, 8, 9], [7, 8, 9], [...]]]\n"
          ]
        }
      ]
    },
    {
      "cell_type": "markdown",
      "source": [
        "Answer: E"
      ],
      "metadata": {
        "id": "E1v-nyK2BhF-"
      }
    },
    {
      "cell_type": "code",
      "source": [
        "5. What is the output of this code in python?\n",
        "        r = lambda q: q * 2\n",
        "        s = lambda q: q * 3\n",
        "        x = 2\n",
        "        x = r (x)\n",
        "        x = s (x)\n",
        "        x = r (x)\n",
        "        print (x)\n",
        "   (A) 2  (B) 4  (C) 6  (D) 12  (E) 24"
      ],
      "metadata": {
        "id": "RevnYl-k150j"
      },
      "execution_count": null,
      "outputs": []
    },
    {
      "cell_type": "code",
      "source": [
        "r = lambda q: q * 2\n",
        "s = lambda q: q * 3\n",
        "x = 2\n",
        "x = r (x)\n",
        "x = s (x)\n",
        "x = r (x)\n",
        "print (x)"
      ],
      "metadata": {
        "colab": {
          "base_uri": "https://localhost:8080/"
        },
        "id": "-ir-9Uc41835",
        "outputId": "a2ad4142-67a1-4331-a3f7-2d3beb46206c"
      },
      "execution_count": 25,
      "outputs": [
        {
          "output_type": "stream",
          "name": "stdout",
          "text": [
            "24\n",
            "24\n"
          ]
        }
      ]
    },
    {
      "cell_type": "markdown",
      "source": [
        "Answer: E"
      ],
      "metadata": {
        "id": "Ji-boPJCER_Y"
      }
    },
    {
      "cell_type": "code",
      "source": [
        "6. Which of the following conditions correctly describes the output of this code in  Python?\n",
        "         first = [1 , 2 , 3 , 4 , 5]\n",
        "         second = first\n",
        "         second.append (6)\n",
        "         print (first)\n",
        "         print (second)\n",
        "   (A) first=[1, 2, 3, 4, 5], second=[1, 2, 3, 4, 5, 6]\n",
        "   (B) first=[1, 2, 3, 4, 5, 6], second=[1, 2, 3, 4, 5]\n",
        "   (C) first=[1, 2, 3, 4, 5], second=[1, 2, 3, 4, 5]\n",
        "   (D) first=[1, 2, 3, 4, 5, 6], second=[1, 2, 3, 4, 5, 6]\n",
        "   (E) None of these"
      ],
      "metadata": {
        "id": "pL_Tu5qH19Ci"
      },
      "execution_count": null,
      "outputs": []
    },
    {
      "cell_type": "code",
      "source": [
        "first = [1 , 2 , 3 , 4 , 5]\n",
        "\n",
        "second = first\n",
        "\n",
        "second.append(\"6\")\n",
        "\n",
        "print(first)\n",
        "print(second)"
      ],
      "metadata": {
        "colab": {
          "base_uri": "https://localhost:8080/"
        },
        "id": "wk_OT5Yx2Akj",
        "outputId": "aa63e4f3-66e2-4d13-df09-f4d9324fcb97"
      },
      "execution_count": 23,
      "outputs": [
        {
          "output_type": "stream",
          "name": "stdout",
          "text": [
            "[1, 2, 3, 4, 5, '6']\n",
            "[1, 2, 3, 4, 5, '6']\n"
          ]
        }
      ]
    },
    {
      "cell_type": "markdown",
      "source": [
        "Answer: D"
      ],
      "metadata": {
        "id": "n2iSF7IgCyba"
      }
    },
    {
      "cell_type": "code",
      "source": [
        "7. If the function \n",
        "int volume (int x = 1, int y = 1, int z = 1); \n",
        "is called by the expression volume (7,8), \n",
        "how many default arguments are used?\n",
        "(A) None  (B) One  (C) Two  (D) Three\n",
        "(E) It depends on the runtime environment."
      ],
      "metadata": {
        "id": "e7QoLSPP2AwQ"
      },
      "execution_count": null,
      "outputs": []
    },
    {
      "cell_type": "markdown",
      "source": [
        "Answer: D"
      ],
      "metadata": {
        "id": "mqE6TG7kEHW1"
      }
    },
    {
      "cell_type": "markdown",
      "source": [
        "reading comprehension:What is the output of this code in Python?"
      ],
      "metadata": {
        "id": "5bubXcJuHvUi"
      }
    },
    {
      "cell_type": "code",
      "source": [
        "B1. # primes.py\n",
        "primes = []  # this will contain the primes at the end\n",
        "upto = 100  # the limit, inclusive\n",
        "for n in range(2, upto + 1):\n",
        "    is_prime = True  # flag, new at each iteration of outer for\n",
        "    for divisor in range(2, n):\n",
        "        if n % divisor == 0:\n",
        "            is_prime = False\n",
        "            break\n",
        "    if is_prime:  # check on flag\n",
        "        primes.append(n)\n",
        "print(primes)"
      ],
      "metadata": {
        "id": "0fLbJ5V42FVP"
      },
      "execution_count": null,
      "outputs": []
    },
    {
      "cell_type": "code",
      "source": [
        "primes = []  # this will contain the primes at the end\n",
        "upto = 100  # the limit, inclusive\n",
        "for n in range(2, upto + 1):\n",
        "    is_prime = True  # flag, new at each iteration of outer for\n",
        "    for divisor in range(2, n):\n",
        "        if n % divisor == 0:\n",
        "            is_prime = False\n",
        "            break\n",
        "    if is_prime:  # check on flag\n",
        "        primes.append(n)\n",
        "print(primes)"
      ],
      "metadata": {
        "colab": {
          "base_uri": "https://localhost:8080/"
        },
        "id": "kAUFLbmCEeq2",
        "outputId": "6cb18479-15fe-441f-bac0-79ef9b6fb5d6"
      },
      "execution_count": 28,
      "outputs": [
        {
          "output_type": "stream",
          "name": "stdout",
          "text": [
            "[2, 3, 5, 7, 11, 13, 17, 19, 23, 29, 31, 37, 41, 43, 47, 53, 59, 61, 67, 71, 73, 79, 83, 89, 97]\n"
          ]
        }
      ]
    },
    {
      "cell_type": "markdown",
      "source": [
        "Explaination"
      ],
      "metadata": {
        "id": "goKEWohzE-q8"
      }
    },
    {
      "cell_type": "code",
      "source": [
        "# primes.py\n",
        "primes = []  # this will contain the primes at the end\n",
        "upto = 100  # the limit, inclusive\n",
        "for n in range(2, upto + 1):\n",
        "    is_prime = True  # flag, new at each iteration of outer for\n",
        "    for divisor in range(2, n):\n",
        "        if n % divisor == 0:\n",
        "            is_prime = False # if the remainder of n is equal to 0 then it is not included\n",
        "            break\n",
        "    if is_prime:  # check on flag\n",
        "        primes.append(n) # if is_prime is true or the remainder of n is not equal to 0 then it will append or added in the list\n",
        "print(primes)"
      ],
      "metadata": {
        "id": "oiWinhAGE9Kz"
      },
      "execution_count": null,
      "outputs": []
    },
    {
      "cell_type": "code",
      "source": [
        "B2. What is the output of this code in Python? explain it.\n",
        "\n",
        "# primes.else.py\n",
        "primes = []\n",
        "upto = 100\n",
        "for n in range(2, upto + 1):\n",
        "    for divisor in range(2, n):\n",
        "        if n % divisor == 0:\n",
        "            break\n",
        "    else:\n",
        "        primes.append(n)\n",
        "print(primes)"
      ],
      "metadata": {
        "id": "LHb6jEZMFHXA"
      },
      "execution_count": null,
      "outputs": []
    },
    {
      "cell_type": "markdown",
      "source": [
        "Answer:"
      ],
      "metadata": {
        "id": "3JFHXJBZFf1Y"
      }
    },
    {
      "cell_type": "code",
      "source": [
        "# primes.else.py\n",
        "primes = []\n",
        "upto = 100\n",
        "for n in range(2, upto + 1):\n",
        "    for divisor in range(2, n):\n",
        "        if n % divisor == 0:\n",
        "            break\n",
        "    else:\n",
        "        primes.append(n)\n",
        "print(primes)"
      ],
      "metadata": {
        "colab": {
          "base_uri": "https://localhost:8080/"
        },
        "id": "NI7sgPI3FfV0",
        "outputId": "1e5ce05e-fb6d-4b6c-d709-a9b5350c032c"
      },
      "execution_count": 29,
      "outputs": [
        {
          "output_type": "stream",
          "name": "stdout",
          "text": [
            "[2, 3, 5, 7, 11, 13, 17, 19, 23, 29, 31, 37, 41, 43, 47, 53, 59, 61, 67, 71, 73, 79, 83, 89, 97]\n"
          ]
        }
      ]
    },
    {
      "cell_type": "markdown",
      "source": [
        "Explaination:"
      ],
      "metadata": {
        "id": "-S0v0rizFmtG"
      }
    },
    {
      "cell_type": "code",
      "source": [
        "# primes.else.py\n",
        "primes = [] # will contain the prime numbers\n",
        "upto = 100 # limit\n",
        "for n in range(2, upto + 1):\n",
        "    for divisor in range(2, n):\n",
        "        if n % divisor == 0: # if the remainder of n is equal to 0 then it is not included\n",
        "            break\n",
        "    else:\n",
        "        primes.append(n) # if the remainder of n is not equal to 0 then it will append or added in the list\n",
        "print(primes)"
      ],
      "metadata": {
        "id": "YI9r9vjgF25Y"
      },
      "execution_count": null,
      "outputs": []
    },
    {
      "cell_type": "code",
      "source": [
        "B3. What is the output of this code in Python?explain it.\n",
        "\n",
        "cubes = [x**3 for x in range(1,6)]\n",
        "print(cubes)"
      ],
      "metadata": {
        "id": "aCwBofonF4_O"
      },
      "execution_count": null,
      "outputs": []
    },
    {
      "cell_type": "markdown",
      "source": [
        "Answer:"
      ],
      "metadata": {
        "id": "isRlvLTCGBqs"
      }
    },
    {
      "cell_type": "code",
      "source": [
        "cubes = [x**3 for x in range(1,6)]\n",
        "print(cubes)"
      ],
      "metadata": {
        "colab": {
          "base_uri": "https://localhost:8080/"
        },
        "id": "7auh9gBAGEVv",
        "outputId": "e5a1d343-7619-4206-f6cc-05faa7d5343c"
      },
      "execution_count": 30,
      "outputs": [
        {
          "output_type": "stream",
          "name": "stdout",
          "text": [
            "[1, 8, 27, 64, 125]\n"
          ]
        }
      ]
    },
    {
      "cell_type": "markdown",
      "source": [
        "Explaination:"
      ],
      "metadata": {
        "id": "SMLiGeB2GSXR"
      }
    },
    {
      "cell_type": "code",
      "source": [
        "range(1,6) == > 1,2,3,4,5\n",
        "\n",
        "[x**3 for x in range(1,6)] ==> [1**3 , 2**3 , ...., 5**3]\n",
        "\n",
        "2**3 = 8"
      ],
      "metadata": {
        "id": "J0Y6lPxAGGOP"
      },
      "execution_count": null,
      "outputs": []
    },
    {
      "cell_type": "markdown",
      "source": [
        "Programming Python"
      ],
      "metadata": {
        "id": "9xC1eUS8Gqy8"
      }
    },
    {
      "cell_type": "code",
      "source": [
        "The Fibonacci numbers may be defined by the recurrence relation\n",
        " F_{0}=0, F_{1}=1\n",
        "and\n",
        "F_{n} = F_{n-1} + F_{n-2}   for n > 1.\n",
        "\n",
        "0,1,1,2,3,5,8,......\n",
        "\n",
        "Under some older definitions, the value  F_{0}=0 is omitted, \n",
        "so that the sequence starts with F_{1}=F_{2}=1 and \n",
        "the recurrence F_{n}=F_{n-1}+F_{n-2} is valid for n > 2\n",
        "\n",
        "(1)Write a Python function/Program to Find Fibonacci Numbers using Recursion\n",
        "(2)use iterative Approach To Find the nth Term Of Fibonacci Sequence(You need to write a function using loop)"
      ],
      "metadata": {
        "id": "NW3Xz2eCGxSV"
      },
      "execution_count": null,
      "outputs": []
    },
    {
      "cell_type": "markdown",
      "source": [
        "Answer: 1."
      ],
      "metadata": {
        "id": "jmPGBrCPG4gf"
      }
    },
    {
      "cell_type": "code",
      "source": [
        "def f(n):\n",
        "  if n == 0:\n",
        "    return 0\n",
        "  if n == 1:\n",
        "    return 1\n",
        "  else:\n",
        "    return f(n-1) + f(n-2)\n",
        "\n",
        "f(6) #in this code note that the n starts at 0"
      ],
      "metadata": {
        "colab": {
          "base_uri": "https://localhost:8080/"
        },
        "id": "L8mCsH_PG7eV",
        "outputId": "405a569b-fe45-4d38-e535-6d59e22adb2d"
      },
      "execution_count": 31,
      "outputs": [
        {
          "output_type": "execute_result",
          "data": {
            "text/plain": [
              "8"
            ]
          },
          "metadata": {},
          "execution_count": 31
        }
      ]
    },
    {
      "cell_type": "markdown",
      "source": [
        "Answer: 2"
      ],
      "metadata": {
        "id": "cQ_iekPqHARc"
      }
    },
    {
      "cell_type": "code",
      "source": [
        "def f(n):\n",
        "  a = 0\n",
        "  b = 1\n",
        "  if n == 0:\n",
        "    return a\n",
        "  if n == 1:\n",
        "    return b\n",
        "  else:\n",
        "    for i in range(2,n):\n",
        "        c = a + b\n",
        "        a = b\n",
        "        b = c\n",
        "    return b\n",
        "f(7) #in this code note that the n starts at 1"
      ],
      "metadata": {
        "colab": {
          "base_uri": "https://localhost:8080/"
        },
        "id": "GlqIngOvHDVc",
        "outputId": "fde39965-2fd2-4a1d-eb1f-72c4ecfbdb45"
      },
      "execution_count": 32,
      "outputs": [
        {
          "output_type": "execute_result",
          "data": {
            "text/plain": [
              "8"
            ]
          },
          "metadata": {},
          "execution_count": 32
        }
      ]
    }
  ]
}