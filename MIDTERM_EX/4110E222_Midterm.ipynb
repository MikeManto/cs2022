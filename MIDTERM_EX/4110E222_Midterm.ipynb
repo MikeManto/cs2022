{
  "nbformat": 4,
  "nbformat_minor": 0,
  "metadata": {
    "colab": {
      "provenance": []
    },
    "kernelspec": {
      "name": "python3",
      "display_name": "Python 3"
    },
    "language_info": {
      "name": "python"
    }
  },
  "cells": [
    {
      "cell_type": "markdown",
      "source": [
        "### **4110E222 麥聖嬰**"
      ],
      "metadata": {
        "id": "gsxcbRBl1Vzc"
      }
    },
    {
      "cell_type": "markdown",
      "source": [
        "1. What can Python do?\n",
        "\n",
        "(A)Python can be used on a server to create web applications.\n",
        "\n",
        "(B)Python can be used alongside software to create workflows.\n",
        "\n",
        "(C)Python can connect to database systems. It can also read and modify files.\n",
        "\n",
        "(D)Python can be used to handle big data and perform complex mathematics."
      ],
      "metadata": {
        "id": "OlESTtNw15Rp"
      }
    },
    {
      "cell_type": "markdown",
      "source": [
        "Answer: https://www.w3schools.com/python/python_intro.asp\n",
        "\n",
        "Python can be used on a server to create web applications.\n",
        "\n",
        "Python can be used alongside software to create workflows.\n",
        "\n",
        "Python can connect to database systems. It can also read and modify files.\n",
        "\n",
        "Python can be used to handle big data and perform complex mathematics.\n",
        "\n",
        "Python can be used for rapid prototyping, or for production-ready software development."
      ],
      "metadata": {
        "id": "1nGSPE6g2bKA"
      }
    },
    {
      "cell_type": "markdown",
      "source": [
        "2. Python uses __________ to indicate a block of code\n",
        "\n",
        "(A) [] (B) {} (C) () (D) indentation"
      ],
      "metadata": {
        "id": "lUDm6_jE3VUp"
      }
    },
    {
      "cell_type": "markdown",
      "source": [
        "Answer: https://www.w3schools.com/python/python_syntax.asp\n",
        "\n",
        "Python uses indentation to indicate a block of code."
      ],
      "metadata": {
        "id": "7c0x0vra3bOn"
      }
    },
    {
      "cell_type": "markdown",
      "source": [
        "3. Python has commenting capability for the purpose of in-code documentation. Comments start with a __________\n",
        "\n",
        "(A) A (B) # (C) / (D)&"
      ],
      "metadata": {
        "id": "_hD7lIIW3i1V"
      }
    },
    {
      "cell_type": "markdown",
      "source": [
        "## **Answer: B**"
      ],
      "metadata": {
        "id": "cSVRLeFx3vyA"
      }
    },
    {
      "cell_type": "markdown",
      "source": [
        "## **4.**"
      ],
      "metadata": {
        "id": "gQVi20uO4Msp"
      }
    },
    {
      "cell_type": "code",
      "source": [
        "fruits = [\"apple\", \"banana\", \"cherry\"]\n",
        "x, y, z = fruits\n",
        "print(x)"
      ],
      "metadata": {
        "colab": {
          "base_uri": "https://localhost:8080/"
        },
        "id": "wz6PAszg4XOw",
        "outputId": "b3bf8b6a-4f2e-4afa-b795-e164da9cfc0b"
      },
      "execution_count": 1,
      "outputs": [
        {
          "output_type": "stream",
          "name": "stdout",
          "text": [
            "apple\n"
          ]
        }
      ]
    },
    {
      "cell_type": "markdown",
      "source": [
        "## **ANSWER : A**"
      ],
      "metadata": {
        "id": "tYIfZhXw8GX2"
      }
    },
    {
      "cell_type": "markdown",
      "source": [
        "## **5.**"
      ],
      "metadata": {
        "id": "5Jry7dK54dUM"
      }
    },
    {
      "cell_type": "code",
      "source": [
        "students = { 'name' : 'alice' , 'score' : 60 }"
      ],
      "metadata": {
        "id": "N7g1yWU64g0F"
      },
      "execution_count": 2,
      "outputs": []
    },
    {
      "cell_type": "markdown",
      "source": [
        "## **Answer: E**"
      ],
      "metadata": {
        "id": "Hg23Tcyg7ElM"
      }
    },
    {
      "cell_type": "markdown",
      "source": [
        "## **6.**"
      ],
      "metadata": {
        "id": "J_wpXelT5cZh"
      }
    },
    {
      "cell_type": "code",
      "source": [
        "x = 5\n",
        "y = \"John\"\n",
        "   \n",
        "print(x + y)"
      ],
      "metadata": {
        "colab": {
          "base_uri": "https://localhost:8080/",
          "height": 209
        },
        "id": "CUKPUU-y5gwp",
        "outputId": "c2eb9938-8fe3-431e-86db-fd133c8238ae"
      },
      "execution_count": 3,
      "outputs": [
        {
          "output_type": "error",
          "ename": "TypeError",
          "evalue": "ignored",
          "traceback": [
            "\u001b[0;31m---------------------------------------------------------------------------\u001b[0m",
            "\u001b[0;31mTypeError\u001b[0m                                 Traceback (most recent call last)",
            "\u001b[0;32m<ipython-input-3-7c706c77b652>\u001b[0m in \u001b[0;36m<module>\u001b[0;34m\u001b[0m\n\u001b[1;32m      2\u001b[0m \u001b[0my\u001b[0m \u001b[0;34m=\u001b[0m \u001b[0;34m\"John\"\u001b[0m\u001b[0;34m\u001b[0m\u001b[0;34m\u001b[0m\u001b[0m\n\u001b[1;32m      3\u001b[0m \u001b[0;34m\u001b[0m\u001b[0m\n\u001b[0;32m----> 4\u001b[0;31m \u001b[0mprint\u001b[0m\u001b[0;34m(\u001b[0m\u001b[0mx\u001b[0m \u001b[0;34m+\u001b[0m \u001b[0my\u001b[0m\u001b[0;34m)\u001b[0m\u001b[0;34m\u001b[0m\u001b[0;34m\u001b[0m\u001b[0m\n\u001b[0m",
            "\u001b[0;31mTypeError\u001b[0m: unsupported operand type(s) for +: 'int' and 'str'"
          ]
        }
      ]
    },
    {
      "cell_type": "markdown",
      "source": [
        "## **ANSWER: D**"
      ],
      "metadata": {
        "id": "sUwenwHu5pNN"
      }
    },
    {
      "cell_type": "markdown",
      "source": [
        "## **7.**\n",
        "\n",
        "(A)13//5 output: 2.6\n",
        "\n",
        "(B) 13/5 output: 2.6\n",
        "\n",
        "(C)13%5 output:3\n",
        "\n",
        "(D)y = int(2.8) output:2"
      ],
      "metadata": {
        "id": "zweH_eEJ6Hh7"
      }
    },
    {
      "cell_type": "markdown",
      "source": [
        "## **Answer: B**"
      ],
      "metadata": {
        "id": "AYkGh80j6NWH"
      }
    },
    {
      "cell_type": "markdown",
      "source": [
        "## **8.**"
      ],
      "metadata": {
        "id": "EQU61yld6d3o"
      }
    },
    {
      "cell_type": "markdown",
      "source": [
        "What does the following Python program fragment do?\n",
        "\n",
        "s=0\n",
        "\n",
        "for i in range (3 , 11) :\n",
        "\n",
        "    s+=i"
      ],
      "metadata": {
        "id": "oqEAVDTF6uFK"
      }
    },
    {
      "cell_type": "code",
      "source": [
        "x = range(3,11)\n",
        "\n",
        "for n in x:\n",
        "  print(n)"
      ],
      "metadata": {
        "colab": {
          "base_uri": "https://localhost:8080/"
        },
        "id": "-fxtN4G-6pBE",
        "outputId": "0964f963-498f-4bd6-aa53-668147d5cc79"
      },
      "execution_count": 8,
      "outputs": [
        {
          "output_type": "stream",
          "name": "stdout",
          "text": [
            "3\n",
            "4\n",
            "5\n",
            "6\n",
            "7\n",
            "8\n",
            "9\n",
            "10\n"
          ]
        }
      ]
    },
    {
      "cell_type": "markdown",
      "source": [
        "## **ANSWER:D**"
      ],
      "metadata": {
        "id": "zJ6aUdQv7-dW"
      }
    },
    {
      "cell_type": "markdown",
      "source": [
        "## **9.**"
      ],
      "metadata": {
        "id": "NXAVgega60dm"
      }
    },
    {
      "cell_type": "code",
      "source": [
        "a = \"Hello, World!\"\n",
        "print(a[2:5]+ a[3:8])"
      ],
      "metadata": {
        "colab": {
          "base_uri": "https://localhost:8080/"
        },
        "id": "XGBmmj9P64ML",
        "outputId": "25627a63-b288-4d48-ef23-866b70d5ba71"
      },
      "execution_count": 9,
      "outputs": [
        {
          "output_type": "stream",
          "name": "stdout",
          "text": [
            "llolo, W\n"
          ]
        }
      ]
    },
    {
      "cell_type": "markdown",
      "source": [
        "## **ANSWER: C**"
      ],
      "metadata": {
        "id": "5gBwANQv8SFa"
      }
    },
    {
      "cell_type": "markdown",
      "source": [
        "## **10.**\n",
        "  \n",
        "  Which function can returns the length of a string? a = \"Hello, Pythonian!\" print(_________)\n",
        "\n",
        "(A) len(a) (B) length(a) (C) count(a) (D) num(a)"
      ],
      "metadata": {
        "id": "JDkpYuVG7MdF"
      }
    },
    {
      "cell_type": "markdown",
      "source": [
        "## **ANSWER: B** https://www.w3schools.com/python/python_strings.asp\n"
      ],
      "metadata": {
        "id": "x63sUDXm7Wa_"
      }
    },
    {
      "cell_type": "markdown",
      "source": [
        "## **11.**\n",
        "\n",
        "What is the output of this code in Python?\n",
        "\n",
        "(A) [ ] (B) [ 'b' ] (C) [ 'a' , 'b' ] (D) [ 'b' , 'c' , 'd' , 'e' ]"
      ],
      "metadata": {
        "id": "NQOSVhB97iBK"
      }
    },
    {
      "cell_type": "code",
      "source": [
        "list = [ ' a ' ,  ' b ' ,  ' c ' ,  ' d ' ,  ' e ' ]\n",
        "print (list [ 1 : ])"
      ],
      "metadata": {
        "colab": {
          "base_uri": "https://localhost:8080/"
        },
        "id": "EkkJU4lO8aiU",
        "outputId": "b0a951fd-62dd-46aa-81a8-087f198114f5"
      },
      "execution_count": 14,
      "outputs": [
        {
          "output_type": "stream",
          "name": "stdout",
          "text": [
            "[' b ', ' c ', ' d ', ' e ']\n"
          ]
        }
      ]
    },
    {
      "cell_type": "markdown",
      "source": [
        "## **ANSWER: D**"
      ],
      "metadata": {
        "id": "M0gAXEsC8dXs"
      }
    },
    {
      "cell_type": "markdown",
      "source": [
        "## **12.**\n",
        "\n",
        "What is the output of this code in Python?\n",
        "\n",
        "    L1 = [ ]\n",
        "\n",
        "    L1.append ( [1, [2, 3], 4] )\n",
        "\n",
        "    L1.extend ( [7, 8, 9] )\n",
        "\n",
        "    print(L1[0][1][1] + L1[2] )\n",
        "\n",
        "(A) 3 (B) 8 (C) 11 (D) 38 (E) None of these"
      ],
      "metadata": {
        "id": "1lfUbJMg8kFd"
      }
    },
    {
      "cell_type": "code",
      "source": [
        "L1 = []\n",
        "L1.append ( [1, [2, 3], 4] )\n",
        "L1.extend ( [7, 8, 9] )\n",
        "\n",
        "print(L1[0][1][1] + L1[2])"
      ],
      "metadata": {
        "colab": {
          "base_uri": "https://localhost:8080/"
        },
        "id": "i_LCOOC98rBM",
        "outputId": "b6557152-d22b-4374-b604-7da882fef161"
      },
      "execution_count": 15,
      "outputs": [
        {
          "output_type": "stream",
          "name": "stdout",
          "text": [
            "11\n"
          ]
        }
      ]
    },
    {
      "cell_type": "markdown",
      "source": [
        "##  ANSWER: C"
      ],
      "metadata": {
        "id": "DTuSwqrF8vOP"
      }
    },
    {
      "cell_type": "markdown",
      "source": [
        "## **13.**\n",
        "\n",
        "Check if \"free\" is present in the following text:\n",
        "\n",
        "txt = \"The best things in life are free!\" print(\"free\" ______ txt)\n",
        "\n",
        "Which is the correct answer?\n",
        "\n",
        "(A) on (B) with (C) at (D) in"
      ],
      "metadata": {
        "id": "A-VnZSEm82np"
      }
    },
    {
      "cell_type": "code",
      "source": [
        "txt = \"The best things in life are free!\"\n",
        "print(\"free\" in txt)"
      ],
      "metadata": {
        "colab": {
          "base_uri": "https://localhost:8080/"
        },
        "id": "3yzPtwQl9EqS",
        "outputId": "4f66075e-6b7b-4e5f-cfd9-5dde8ba3a1ea"
      },
      "execution_count": 16,
      "outputs": [
        {
          "output_type": "stream",
          "name": "stdout",
          "text": [
            "True\n"
          ]
        }
      ]
    },
    {
      "cell_type": "markdown",
      "source": [
        "## **ANSWER: D**"
      ],
      "metadata": {
        "id": "bmK2miae9L9F"
      }
    },
    {
      "cell_type": "markdown",
      "source": [
        "## **14.**\n",
        "\n",
        "Which of the following conditions correctly describes the output of this code in Python?\n",
        "\n",
        "     first = [1 , 2 , 3 , 4 , 5]\n",
        "\n",
        "     second = first\n",
        "\n",
        "     second.append (6)\n",
        "\n",
        "     print (first)\n",
        "\n",
        "     print (second)\n",
        "\n",
        "(A) first=[1, 2, 3, 4, 5], second=[1, 2, 3, 4, 5, 6]\n",
        "\n",
        "(B) first=[1, 2, 3, 4, 5, 6], second=[1, 2, 3, 4, 5]\n",
        "\n",
        "(C) first=[1, 2, 3, 4, 5], second=[1, 2, 3, 4, 5]\n",
        "\n",
        "(D) first=[1, 2, 3, 4, 5, 6], second=[1, 2, 3, 4, 5, 6]\n",
        "\n",
        "(E) None of these"
      ],
      "metadata": {
        "id": "Bk2Z3zM99OYF"
      }
    },
    {
      "cell_type": "code",
      "source": [
        "first = [1 , 2 , 3 , 4 , 5]\n",
        "second = first\n",
        "second.append (6)\n",
        "print (first)\n",
        "print (second)"
      ],
      "metadata": {
        "colab": {
          "base_uri": "https://localhost:8080/"
        },
        "id": "r3uH_N029Te1",
        "outputId": "b2f66f00-0c3e-455d-c1dc-bc7609460539"
      },
      "execution_count": 17,
      "outputs": [
        {
          "output_type": "stream",
          "name": "stdout",
          "text": [
            "[1, 2, 3, 4, 5, 6]\n",
            "[1, 2, 3, 4, 5, 6]\n"
          ]
        }
      ]
    },
    {
      "cell_type": "markdown",
      "source": [
        "## **Answer: D**"
      ],
      "metadata": {
        "id": "ZBpyooQz9XTN"
      }
    },
    {
      "cell_type": "markdown",
      "source": [
        "## **15.**\n",
        "\n",
        "Python has a set of built-in methods that you can use on strings. Which method can converts string into lower case ?\n",
        "\n",
        "(A)capitalize() (B) casefold() (C) lower()\n",
        "(D)expandtabs()"
      ],
      "metadata": {
        "id": "f75x1_GJ9gCO"
      }
    },
    {
      "cell_type": "markdown",
      "source": [
        "## **ANSWER: C**"
      ],
      "metadata": {
        "id": "vWN2Alts9oCv"
      }
    },
    {
      "cell_type": "markdown",
      "source": [
        "## **16.**\n",
        "\n",
        "Python Booleans Which one of the following statements is wrong?\n",
        "\n",
        "(A) Booleans represent one of two values: True or False.\n",
        "\n",
        "(B) The bool() function allows you to evaluate any value, and give you True or False in return,\n",
        "\n",
        "(C) print(10 > 9) will output True\n",
        "\n",
        "(D) print(10 = 9) will output True"
      ],
      "metadata": {
        "id": "xBoCwzrJ9w3Z"
      }
    },
    {
      "cell_type": "code",
      "source": [
        "print(10 = 9)"
      ],
      "metadata": {
        "colab": {
          "base_uri": "https://localhost:8080/",
          "height": 135
        },
        "id": "O_aldin1-EI1",
        "outputId": "0e1bbecc-c0af-4411-de41-ed895b0bb88c"
      },
      "execution_count": 18,
      "outputs": [
        {
          "output_type": "error",
          "ename": "SyntaxError",
          "evalue": "ignored",
          "traceback": [
            "\u001b[0;36m  File \u001b[0;32m\"<ipython-input-18-bfffe3a677b9>\"\u001b[0;36m, line \u001b[0;32m1\u001b[0m\n\u001b[0;31m    print(10 = 9)\u001b[0m\n\u001b[0m         ^\u001b[0m\n\u001b[0;31mSyntaxError\u001b[0m\u001b[0;31m:\u001b[0m keyword can't be an expression\n"
          ]
        }
      ]
    },
    {
      "cell_type": "markdown",
      "source": [
        "## **ANSWER:D**"
      ],
      "metadata": {
        "id": "ADvo3tx0-IEm"
      }
    },
    {
      "cell_type": "markdown",
      "source": [
        "## **17.**\n",
        "\n",
        "Python Lists Which of the following statements is wrong?\n",
        "\n",
        "(A) Lists are used to store multiple items in a single variable.\n",
        "\n",
        "(B) Lists are created using square brackets\n",
        "\n",
        "(C) List items are ordered, changeable, and allow duplicate values.\n",
        "\n",
        "(D) Lists can not have items with the same value"
      ],
      "metadata": {
        "id": "HRjPh4S9-MMW"
      }
    },
    {
      "cell_type": "markdown",
      "source": [
        "## **ANSWER: D**"
      ],
      "metadata": {
        "id": "oV9X3i_E-vu0"
      }
    },
    {
      "cell_type": "markdown",
      "source": [
        "## **18.**\n",
        "\n",
        "Which one of the codes will output ['apple', 'orange', 'banana', 'cherry'] ?\n",
        "\n",
        "mylist = [\"apple\", \"banana\", \"cherry\"] _____________________ print(mylist)\n",
        "\n",
        "(A)mylist.append(\"orange\")\n",
        "\n",
        "(B)mylist.insert(0, \"orange\")\n",
        "\n",
        "(C)mylist.insert(1, \"orange\")\n",
        "\n",
        "(D)mylist.insert(2, \"orange\")"
      ],
      "metadata": {
        "id": "DX67Ge4A-1gD"
      }
    },
    {
      "cell_type": "code",
      "source": [
        "['apple', 'orange', 'banana', 'cherry']\n",
        "mylist = [\"apple\", \"banana\", \"cherry\"]\n",
        "\n",
        "mylist.insert(1, \"orange\")   \n",
        "print(mylist)"
      ],
      "metadata": {
        "colab": {
          "base_uri": "https://localhost:8080/"
        },
        "id": "88y0uOFv_Lv8",
        "outputId": "1964e3e8-eac3-45f8-e28f-085666bf0d75"
      },
      "execution_count": 19,
      "outputs": [
        {
          "output_type": "stream",
          "name": "stdout",
          "text": [
            "['apple', 'orange', 'banana', 'cherry']\n"
          ]
        }
      ]
    },
    {
      "cell_type": "markdown",
      "source": [
        "## **ANSWER: C**"
      ],
      "metadata": {
        "id": "I0RJl51D_PV3"
      }
    },
    {
      "cell_type": "markdown",
      "source": [
        "## **19.**\n",
        "\n",
        "Python has a set of built-in methods that you can use on dictionaries. Which statements are correct ?\n",
        "\n",
        "(A) clear() will removes all the elements from the dictionary\n",
        "\n",
        "(B) copy() will returns a copy of the dictionary\n",
        "\n",
        "(C) items() will returns a list containing a tuple for each key value pair\n",
        "\n",
        "(D) popitem() will removes the last inserted key-value pair"
      ],
      "metadata": {
        "id": "wpNNP6Xe_Uya"
      }
    },
    {
      "cell_type": "markdown",
      "source": [
        "## **ANSWER: C**"
      ],
      "metadata": {
        "id": "UjJWow6S_Z0X"
      }
    },
    {
      "cell_type": "markdown",
      "source": [
        "## **20.**\n",
        "\n",
        "Python supports the usual logical conditions from mathematics: Which statements are correct ?\n",
        "\n",
        "(A)Equals: a = b\n",
        "\n",
        "(B)Not Equals: a != b\n",
        "\n",
        "(C)Less than or equal to: a <= b\n",
        "\n",
        "(D)Greater than: a > b"
      ],
      "metadata": {
        "id": "F_MYkvHp_dwO"
      }
    },
    {
      "cell_type": "markdown",
      "source": [
        "## **ANSWER: A**"
      ],
      "metadata": {
        "id": "650Fq9Sg_iaU"
      }
    },
    {
      "cell_type": "markdown",
      "source": [
        "## **21.**\n",
        "\n",
        "What is the output of this code in Python?"
      ],
      "metadata": {
        "id": "3IJ-OdY0_lgB"
      }
    },
    {
      "cell_type": "code",
      "source": [
        "i = 1\n",
        "while i < 6:\n",
        "  print(i)\n",
        "  if (i == 3):\n",
        "    break\n",
        "  i += 1"
      ],
      "metadata": {
        "colab": {
          "base_uri": "https://localhost:8080/"
        },
        "id": "WNtMLnwG_pzU",
        "outputId": "86ad06d8-5780-4a0f-c650-3a4d99db2074"
      },
      "execution_count": 20,
      "outputs": [
        {
          "output_type": "stream",
          "name": "stdout",
          "text": [
            "1\n",
            "2\n",
            "3\n"
          ]
        }
      ]
    },
    {
      "cell_type": "markdown",
      "source": [
        "## **ANSWER: A**"
      ],
      "metadata": {
        "id": "T9GUpII4_svy"
      }
    },
    {
      "cell_type": "markdown",
      "source": [
        "## **22.**\n",
        "\n",
        "What is the output of this code in Python?"
      ],
      "metadata": {
        "id": "-Rg_Q4ra_zRu"
      }
    },
    {
      "cell_type": "code",
      "source": [
        "i = 0\n",
        "while i < 6:\n",
        "  i += 1\n",
        "  if i == 3:\n",
        "    continue\n",
        "  print(i)"
      ],
      "metadata": {
        "colab": {
          "base_uri": "https://localhost:8080/"
        },
        "id": "6p-WNqh3_8Ak",
        "outputId": "f22b0abe-dfec-4edf-9226-dfcf345cd537"
      },
      "execution_count": 21,
      "outputs": [
        {
          "output_type": "stream",
          "name": "stdout",
          "text": [
            "1\n",
            "2\n",
            "4\n",
            "5\n",
            "6\n"
          ]
        }
      ]
    },
    {
      "cell_type": "markdown",
      "source": [
        "## **ANSWER: B**"
      ],
      "metadata": {
        "id": "gRPYj6T2_-xD"
      }
    },
    {
      "cell_type": "markdown",
      "source": [
        "## **23.**\n",
        "\n",
        "If the function int volume (int x = 1, int y = 1, int z = 1); is called by the expression volume (7,8), how many default arguments are used?\n",
        "\n",
        "(A) None (B) One (C) Two (D) Three (E) It depends on the runtime environment."
      ],
      "metadata": {
        "id": "eH7_9nnpACF5"
      }
    },
    {
      "cell_type": "markdown",
      "source": [
        "## **ANSWER: C**"
      ],
      "metadata": {
        "id": "CTrxpaC1Ac5o"
      }
    },
    {
      "cell_type": "markdown",
      "source": [
        "## **24.**\n",
        "\n",
        "What is the output of this code in python?\n",
        "\n",
        "    r = lambda q: q * 2\n",
        "\n",
        "    s = lambda q: q * 3\n",
        "\n",
        "    x = 2\n",
        "\n",
        "    x = r (x)\n",
        "\n",
        "    x = s (x)\n",
        "\n",
        "    x = r (x)\n",
        "\n",
        "    print (x\n",
        "\n",
        "    A) 2  (B) 4  (C) 6  (D) 12  (E) 24"
      ],
      "metadata": {
        "id": "eU_5NEG0Agn3"
      }
    },
    {
      "cell_type": "code",
      "source": [
        "r = lambda q: q * 2\n",
        "s = lambda q: q * 3\n",
        "x = 2\n",
        "x = r (x)\n",
        "x = s (x)\n",
        "x = r (x)\n",
        "print (x)"
      ],
      "metadata": {
        "colab": {
          "base_uri": "https://localhost:8080/"
        },
        "id": "wHJIJSK0Alsa",
        "outputId": "7679bd43-5916-4d2b-b5a4-c90d22fa7fc1"
      },
      "execution_count": 22,
      "outputs": [
        {
          "output_type": "stream",
          "name": "stdout",
          "text": [
            "24\n"
          ]
        }
      ]
    },
    {
      "cell_type": "markdown",
      "source": [
        "## **ANSWER: E**"
      ],
      "metadata": {
        "id": "fE8KmSb1ApGp"
      }
    },
    {
      "cell_type": "markdown",
      "source": [
        "## **25.**\n",
        "\n",
        "A recursive function is defined as below: def tri_recursion(k):\n",
        "\n",
        "if(k > 0):\n",
        "\n",
        "result = k + tri_recursion(k - 1)\n",
        "\n",
        "print(result)\n",
        "\n",
        "else:\n",
        "\n",
        "result = 0\n",
        "\n",
        "return result\n",
        "\n",
        "What Is The Last Line Of The Output When tri_recursion(6) is executed?\n",
        "\n",
        "(A) 6 (B) 10 (C) 15 (D) 21 (E) 28"
      ],
      "metadata": {
        "id": "pprCtqpiAs5z"
      }
    },
    {
      "cell_type": "code",
      "source": [
        "def tri_recursion(k):\n",
        "  if(k > 0):\n",
        "    result = k + tri_recursion(k - 1)\n",
        "    print(result)\n",
        "  else:\n",
        "    result = 0\n",
        "  return result"
      ],
      "metadata": {
        "id": "3NMHuvysAx0J"
      },
      "execution_count": 24,
      "outputs": []
    },
    {
      "cell_type": "markdown",
      "source": [
        "## **ANSWER: D**"
      ],
      "metadata": {
        "id": "zkJvQF8tA4tl"
      }
    }
  ]
}